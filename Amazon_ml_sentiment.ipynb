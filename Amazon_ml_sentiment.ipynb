{
  "cells": [
    {
      "cell_type": "code",
      "execution_count": null,
      "id": "8d03f276",
      "metadata": {
        "id": "8d03f276"
      },
      "outputs": [],
      "source": [
        "import pandas as pd\n",
        "import seaborn as sb\n",
        "import matplotlib.pyplot as plt\n",
        "import numpy as np\n",
        "import openpyxl as xl\n",
        "import requests\n",
        "from bs4 import BeautifulSoup\n",
        "pd.set_option('display.max_rows', 500)\n",
        "#Utilizando Docker splash"
      ]
    },
    {
      "cell_type": "markdown",
      "id": "bdda853d",
      "metadata": {
        "id": "bdda853d"
      },
      "source": [
        "# Parte 01: Web Scraping dos produtos, comentários e classificações."
      ]
    },
    {
      "cell_type": "code",
      "execution_count": null,
      "id": "96e42bcb",
      "metadata": {
        "id": "96e42bcb"
      },
      "outputs": [],
      "source": [
        "def get_soup(url):\n",
        "    r = requests.get(\"http://localhost:8050/render.html\", params = {\"url\": url, \"wait\": 2})\n",
        "    soup = BeautifulSoup(r.text, \"html.parser\")\n",
        "    return soup"
      ]
    },
    {
      "cell_type": "code",
      "execution_count": null,
      "id": "c488d9bc",
      "metadata": {
        "id": "c488d9bc"
      },
      "outputs": [],
      "source": [
        ""
      ]
    },
    {
      "cell_type": "code",
      "execution_count": null,
      "id": "69a69680",
      "metadata": {
        "id": "69a69680"
      },
      "outputs": [],
      "source": [
        "url_products = {\n",
        "\"https://www.amazon.com.br/Yellow-Cab-Graphic-Novel-%C3%9Anico/product-reviews/6589912572/ref=cm_cr_arp_d_paging_btm_next_2?ie=UTF8&reviewerType=all_reviews&pageNumber=\",\n",
        "\"https://www.amazon.com.br/Shamisen-Can%C3%A7%C3%B5es-Mundo-Flutuante-Graphic/product-reviews/6586672554/ref=cm_cr_arp_d_paging_btm_next_2?ie=UTF8&reviewerType=all_reviews&pageNumber=\",\n",
        "\"https://www.amazon.com.br/Cinco-por-Infinito-Exclusivo-Amazon/product-reviews/8593695159/ref=cm_cr_arp_d_paging_btm_next_2?ie=UTF8&reviewerType=all_reviews&pageNumber=\",\n",
        "\"https://www.amazon.com.br/As-Cr%C3%B4nicas-Era-Gelo-Mang%C3%A1/product-reviews/6586672619/ref=cm_cr_arp_d_paging_btm_next_2?ie=UTF8&reviewerType=all_reviews&pageNumber=\",\n",
        "\"https://www.amazon.com.br/Trilogia-Gatilho-%C3%9Anico-Carlos-Estefan/product-reviews/6586672481/ref=cm_cr_arp_d_paging_btm_next_2?ie=UTF8&reviewerType=all_reviews&pageNumber=\",\n",
        "\"https://www.amazon.com.br/Cr%C3%B4nicas-Era-Gelo-Mang%C3%A1-Vol/product-reviews/6586672597/ref=cm_cr_arp_d_paging_btm_next_2?ie=UTF8&reviewerType=all_reviews&pageNumber=\",\n",
        "\"https://www.amazon.com.br/Desonra-Kubidai-Hikiukenin-Exclusivo-Amazon/product-reviews/8593695329/ref=cm_cr_arp_d_paging_btm_next_2?ie=UTF8&reviewerType=all_reviews&pageNumber=\",\n",
        "\"https://www.amazon.com.br/Incal-1-S%C3%A9rie-Todo/product-reviews/6586672333/ref=cm_cr_arp_d_paging_btm_next_2?ie=UTF8&reviewerType=all_reviews&pageNumber=\",\n",
        "\"https://www.amazon.com.br/%C3%9Altimo-Voo-das-Borboletas/product-reviews/8593695361/ref=cm_cr_arp_d_paging_btm_next_2?ie=UTF8&reviewerType=all_reviews&pageNumber=\",\n",
        "\"https://www.amazon.com.br/Peda%C3%A7o-Madeira-A%C3%A7o-Christophe-Chabout%C3%A9-ebook/product-reviews/B07D3F7WLM/ref=cm_cr_arp_d_paging_btm_next_2?ie=UTF8&reviewerType=all_reviews&pageNumber=\",\n",
        "\"https://www.amazon.com.br/Grande-Livro-dos-Vampiros/product-reviews/6589912610/ref=cm_cr_arp_d_paging_btm_next_2?ie=UTF8&reviewerType=all_reviews&pageNumber=\",\n",
        "\"https://www.amazon.com.br/Copra-Round-Dois-Michel-Fiffe/product-reviews/6586672589/ref=cm_cr_arp_d_paging_btm_next_2?ie=UTF8&reviewerType=all_reviews&pageNumber=\",\n",
        "\"https://www.amazon.com.br/Moby-Dick-%C3%9Anico-Exclusivo-Amazon/product-reviews/8593695027/ref=cm_cr_arp_d_paging_btm_next_2?ie=UTF8&reviewerType=all_reviews&pageNumber=\",\n",
        "\"https://www.amazon.com.br/Recado-Adolf-Vol-1-2/product-reviews/6586672228/ref=cm_cr_arp_d_paging_btm_next_2?ie=UTF8&reviewerType=all_reviews&pageNumber=\",\n",
        "\"https://www.amazon.com.br/Copra-Round-Um-Michel-Fiffe/product-reviews/6586672562/ref=cm_cr_arp_d_paging_btm_next_2?ie=UTF8&reviewerType=all_reviews&pageNumber=\",\n",
        "\"https://www.amazon.com.br/Henri-D%C3%A9sir%C3%A9-Landru-Serial-Killer/product-reviews/6586672147/ref=cm_cr_arp_d_paging_btm_next_2?ie=UTF8&reviewerType=all_reviews&pageNumber=\",\n",
        "\"https://www.amazon.com.br/Tra%C3%A7o-Giz-Miguelanxo-Prado/product-reviews/6586672295/ref=cm_cr_arp_d_paging_btm_next_2?ie=UTF8&reviewerType=all_reviews&pageNumber=\",\n",
        "\"https://www.amazon.com.br/Grande-Odalisca-2-Olympia/product-reviews/8593695388/ref=cm_cr_arp_d_paging_btm_next_2?ie=UTF8&reviewerType=all_reviews&pageNumber=\",\n",
        "\"https://www.amazon.com.br/Drag%C3%A3o-Negro-%C3%9Anico-Exclusivo-Amazon/product-reviews/8593695191/ref=cm_cr_arp_d_paging_btm_next_2?ie=UTF8&reviewerType=all_reviews&pageNumber=\",\n",
        "\"https://www.amazon.com.br/Fredric-William-Amazona-Persegui%C3%A7%C3%A3o-Quadrinhos/product-reviews/6586672635/ref=cm_cr_arp_d_paging_btm_next_2?ie=UTF8&reviewerType=all_reviews&pageNumber=\",\n",
        "\"https://www.amazon.com.br/Grande-Odalisca-Exclusivo-Amazon/product-reviews/859369537X/ref=cm_cr_arp_d_paging_btm_next_2?ie=UTF8&reviewerType=all_reviews&pageNumber=\",\n",
        "\"https://www.amazon.com.br/Funny-Creek-Rafael-Scavone/product-reviews/6586672252/ref=cm_cr_arp_d_paging_btm_next_2?ie=UTF8&reviewerType=all_reviews&pageNumber=\",\n",
        "\"https://www.amazon.com.br/Tomie-1-2-Junji-Ito/product-reviews/6586672376/ref=cm_cr_arp_d_paging_btm_next_2?ie=UTF8&reviewerType=all_reviews&pageNumber=\",\n",
        "\"https://www.amazon.com.br/Satsuma-Gishiden-Cr%C3%B4nicas-Leais-Guerreiros/product-reviews/6586672090/ref=cm_cr_arp_d_paging_btm_next_2?ie=UTF8&reviewerType=all_reviews&pageNumber=\",\n",
        "\"https://www.amazon.com.br/Masters-For%C3%A7a-Espacial-Jack-Kirby/product-reviews/6586672074/ref=cm_cr_arp_d_paging_btm_next_2?ie=UTF8&reviewerType=all_reviews&pageNumber=\",\n",
        "\"https://www.amazon.com.br/Ningu%C3%A9m-%C3%9Anico-Jeff-Lemire/product-reviews/8593695272/ref=cm_cr_arp_d_paging_btm_next_2?ie=UTF8&reviewerType=all_reviews&pageNumber=\",\n",
        "\"https://www.amazon.com.br/Rei-Macaco-Silverio-Pisu/product-reviews/6586672201/ref=cm_cr_arp_d_paging_btm_next_2?ie=UTF8&reviewerType=all_reviews&pageNumber=\",\n",
        "\"https://www.amazon.com.br/Conan-B%C3%A1rbaro-Livro-Robert-Howard-ebook/product-reviews/B07GX9YR93/ref=cm_cr_arp_d_paging_btm_next_2?ie=UTF8&reviewerType=all_reviews&pageNumber=\",\n",
        "\"https://www.amazon.com.br/Jane-Exclusivo-Aline-Brosh-Mckenna/product-reviews/8593695302/ref=cm_cr_arp_d_paging_btm_next_2?ie=UTF8&reviewerType=all_reviews&pageNumber=\",\n",
        "\"https://www.amazon.com.br/Floresta-Das-%C3%81rvores-Retorcidas/product-reviews/8593695345/ref=cm_cr_arp_d_paging_btm_next_2?ie=UTF8&reviewerType=all_reviews&pageNumber=\",\n",
        "\"https://www.amazon.com.br/Blood-Uma-Hist%C3%B3ria-Sangue-Exclusivo/product-reviews/8593695124/ref=cm_cr_arp_d_paging_btm_next_2?ie=UTF8&reviewerType=all_reviews&pageNumber=\",\n",
        "\"https://www.amazon.com.br/Sob-Solo-Bianca-Pinheiro/product-reviews/8593695418/ref=cm_cr_arp_d_paging_btm_next_2?ie=UTF8&reviewerType=all_reviews&pageNumber=\",\n",
        "\"https://www.amazon.com.br/Maxwell-Gato-M%C3%A1gico-Alan-Moore/product-reviews/8593695612/ref=cm_cr_arp_d_paging_btm_next_2?ie=UTF8&reviewerType=all_reviews&pageNumber=\",\n",
        "\"https://www.amazon.com.br/Conto-Areia-%C3%9Anico-Exclusivo-Amazon/product-reviews/8593695086/ref=cm_cr_arp_d_paging_btm_next_2?ie=UTF8&reviewerType=all_reviews&pageNumber=\",\n",
        "\"https://www.amazon.com.br/Espadas-Bruxas-%C3%9Anico-Exclusivo-Amazon/product-reviews/8593695000/ref=cm_cr_arp_d_paging_btm_next_2?ie=UTF8&reviewerType=all_reviews&pageNumber=\",\n",
        "\"https://www.amazon.com.br/Arte-Charlie-Chan-Hock-Chye/product-reviews/8593695353/ref=cm_cr_arp_d_paging_btm_next_2?ie=UTF8&reviewerType=all_reviews&pageNumber=\",\n",
        "\"https://www.amazon.com.br/Fronteiras-do-Al%C3%A9m-Jayme-Cortez/product-reviews/6586672023/ref=cm_cr_arp_d_paging_btm_next_2?ie=UTF8&reviewerType=all_reviews&pageNumber=\",\n",
        "\"https://www.amazon.com.br/Por-Deus-ou-Pelo-Acaso/product-reviews/6586672031/ref=cm_cr_arp_d_paging_btm_next_2?ie=UTF8&reviewerType=all_reviews&pageNumber=\",\n",
        "\"https://www.amazon.com.br/Brand-Outros-Cl%C3%A1ssicos-Frank-Frazetta/product-reviews/6586672503/ref=cm_cr_arp_d_paging_btm_next_2?ie=UTF8&reviewerType=all_reviews&pageNumber=\",\n",
        "\"https://www.amazon.com.br/Luz-que-Fenece-Barbara-Baldi/product-reviews/8593695337/ref=cm_cr_arp_d_paging_btm_next_2?ie=UTF8&reviewerType=all_reviews&pageNumber=\",\n",
        "\"https://www.amazon.com.br/Beowulf-Exclusivo-Amazon-Santiago-Garc%C3%ADa/product-reviews/8593695175/ref=cm_cr_arp_d_paging_btm_next_2?ie=UTF8&reviewerType=all_reviews&pageNumber=\",\n",
        "\"https://www.amazon.com.br/Satsuma-Gishiden-Cr%C3%B4nicas-Leais-Guerreiros-ebook/product-reviews/B08YRR3MGZ/ref=cm_cr_arp_d_paging_btm_next_2?ie=UTF8&reviewerType=all_reviews&pageNumber=\",\n",
        "\"https://www.amazon.com.br/Beasts-Burden-Rituais-Animais-Exclusivo/product-reviews/8593695035/ref=cm_cr_arp_d_paging_btm_next_2?ie=UTF8&reviewerType=all_reviews&pageNumber=\",\n",
        "\"https://www.amazon.com.br/M%C3%A1skara-%C3%9Anico-John-Arcudi/product-reviews/8593695590/ref=cm_cr_arp_d_paging_btm_next_2?ie=UTF8&reviewerType=all_reviews&pageNumber=\",\n",
        "\"https://www.amazon.com.br/Hokusai-Biografia-em-Mang%C3%A1-%C3%9Anico/product-reviews/6586672406/ref=cm_cr_arp_d_paging_btm_next_2?ie=UTF8&reviewerType=all_reviews&pageNumber=\",\n",
        "\"https://www.amazon.com.br/Mang%C3%A1-Document%C3%A1rio-Virgem-Depois-exclusivo-Amazon/product-reviews/8593695221/ref=cm_cr_arp_d_paging_btm_next_2?ie=UTF8&reviewerType=all_reviews&pageNumber=\",\n",
        "\"https://www.amazon.com.br/Recado-Adolf-Vol-2/product-reviews/6586672244/ref=cm_cr_arp_d_paging_btm_next_2?ie=UTF8&reviewerType=all_reviews&pageNumber=\",\n",
        "\"https://www.amazon.com.br/Tomie-Vol-2-Junji-Ito/product-reviews/6586672384/ref=cm_cr_arp_d_paging_btm_next_2?ie=UTF8&reviewerType=all_reviews&pageNumber=\",\n",
        "\"https://www.amazon.com.br/Guardi%C3%B5es-Louvre-Mang%C3%A1-Exclusivo-Amazon/product-reviews/8593695094/ref=cm_cr_arp_d_paging_btm_next_2?ie=UTF8&reviewerType=all_reviews&pageNumber=\",\n",
        "\"https://www.amazon.com.br/Anel-Nibelungo-%C3%9Anico-Exclusivo-Amazon/product-reviews/8593695140/ref=cm_cr_arp_d_paging_btm_next_2?ie=UTF8&reviewerType=all_reviews&pageNumber=\",\n",
        "\"https://www.amazon.com.br/Relat%C3%B3rio-Brodeck-%C3%9Anico-Exclusivo-Amazon/product-reviews/8593695183/ref=cm_cr_arp_d_paging_btm_next_2?ie=UTF8&reviewerType=all_reviews&pageNumber=\",\n",
        "\"https://www.amazon.com.br/Grama-Keum-Suk-Gendry-Kim/product-reviews/658667204X/ref=cm_cr_arp_d_paging_btm_next_2?ie=UTF8&reviewerType=all_reviews&pageNumber=\",\n",
        "\"https://www.amazon.com.br/Druuna-Vol-2-Exclusivo-Amazon/product-reviews/8593695248/ref=cm_cr_arp_d_paging_btm_next_2?ie=UTF8&reviewerType=all_reviews&pageNumber=\",\n",
        "\"https://www.amazon.com.br/Marada-Mulher-Lobo-%C3%9Anico-Exclusivo-Amazon/product-reviews/8593695078/ref=cm_cr_arp_d_paging_btm_next_2?ie=UTF8&reviewerType=all_reviews&pageNumber=\",\n",
        "\"https://www.amazon.com.br/Conan-B%C3%A1rbaro-Livro-Exclusivo-Amazon/product-reviews/8593695051/ref=cm_cr_arp_d_paging_btm_next_2?ie=UTF8&reviewerType=all_reviews&pageNumber=\",\n",
        "\"https://www.amazon.com.br/Sonja-Balada-Deusa-Sombra-Abutre/product-reviews/6586672465/ref=cm_cr_arp_d_paging_btm_next_2?ie=UTF8&reviewerType=all_reviews&pageNumber=\",\n",
        "\"https://www.amazon.com.br/Conan-B%C3%A1rbaro-Livro-exclusivo-Amazon/product-reviews/8593695310/ref=cm_cr_arp_d_paging_btm_next_2?ie=UTF8&reviewerType=all_reviews&pageNumber=\",\n",
        "\"https://www.amazon.com.br/Solit%C3%A1rio-Exclusivo-Amazon-Christophe-Chabout%C3%A9/product-reviews/8593695280/ref=cm_cr_arp_d_paging_btm_next_2?ie=UTF8&reviewerType=all_reviews&pageNumber=\",\n",
        "\"https://www.amazon.com.br/Os-Mitos-Cthulhu-Exclusivo-Amazon/product-reviews/8593695264/ref=cm_cr_arp_d_paging_btm_next_2?ie=UTF8&reviewerType=all_reviews&pageNumber=\",\n",
        "\"https://www.amazon.com.br/Um-Pequeno-Assassinato-Exclusivo-Amazon/product-reviews/8593695043/ref=cm_cr_arp_d_paging_btm_next_2?ie=UTF8&reviewerType=all_reviews&pageNumber=\",\n",
        "\"https://www.amazon.com.br/Cannon-Exclusivo-Amazon-Wallace-Wood/product-reviews/8593695019/ref=cm_cr_arp_d_paging_btm_next_2?ie=UTF8&reviewerType=all_reviews&pageNumber=\",\n",
        "\"https://www.amazon.com.br/Tartarugas-Ninja-Cole%C3%A7%C3%A3o-Cl%C3%A1ssica-Vol/product-reviews/658667252X/ref=cm_cr_arp_d_paging_btm_next_2?ie=UTF8&reviewerType=all_reviews&pageNumber=\",\n",
        "\"https://www.amazon.com.br/Tartarugas-Ninja-Cole%C3%A7%C3%A3o-Cl%C3%A1ssica-Vol/product-reviews/8593695671/ref=cm_cr_arp_d_paging_btm_next_2?ie=UTF8&reviewerType=all_reviews&pageNumber=\",\n",
        "\"https://www.amazon.com.br/Gastaria-Tudo-Pizza-Pedro-Duarte-ebook/product-reviews/B08GQFNSQW/ref=cm_cr_arp_d_paging_btm_next_2?ie=UTF8&reviewerType=all_reviews&pageNumber=\",\n",
        "\"https://www.amazon.com.br/Beasts-Burden-Guardi%C3%B5es-Vizinhan%C3%A7a-Dorkin/product-reviews/8593695574/ref=cm_cr_arp_d_paging_btm_next_2?ie=UTF8&reviewerType=all_reviews&pageNumber=\",\n",
        "\"https://www.amazon.com.br/Bran-Mak-Morn-%C3%9Altimo-Pictos/product-reviews/6586672449/ref=cm_cr_arp_d_paging_btm_next_2?ie=UTF8&reviewerType=all_reviews&pageNumber=\",\n",
        "\"https://www.amazon.com.br/Roseira-Medalha-Engenho-Outras-Hist%C3%B3rias/product-reviews/8593695434/ref=cm_cr_arp_d_paging_btm_next_2?ie=UTF8&reviewerType=all_reviews&pageNumber=\",\n",
        "\"https://www.amazon.com.br/Destino-Adiado-Jean-pierre-Gibrat/product-reviews/8593695582/ref=cm_cr_arp_d_paging_btm_next_2?ie=UTF8&reviewerType=all_reviews&pageNumber=\",\n",
        "\"https://www.amazon.com.br/Ogiva-Graphic-Novel-Bruno-Zago/product-reviews/6586672112/ref=cm_cr_arp_d_paging_btm_next_2?ie=UTF8&reviewerType=all_reviews&pageNumber=\",\n",
        "\"https://www.amazon.com.br/Profecia-David-Seltzer/product-reviews/8593695655/ref=cm_cr_arp_d_paging_btm_next_2?ie=UTF8&reviewerType=all_reviews&pageNumber=\",\n",
        "\"https://www.amazon.com.br/Conan-B%C3%A1rbaro-Livro-exclusivo-Amazon/product-reviews/8593695310/ref=cm_cr_arp_d_paging_btm_next_2?ie=UTF8&reviewerType=all_reviews&pageNumber=\",\n",
        "\"https://www.amazon.com.br/Druuna-Vol-Caixa-Cole%C3%A7%C3%A3o-Exclusivo/product-reviews/8593695256/ref=cm_cr_arp_d_paging_btm_next_2?ie=UTF8&reviewerType=all_reviews&pageNumber=\",\n",
        "\"https://www.amazon.com.br/Druuna-Vol-1-Exclusivo-Amazon/product-reviews/859369523X/ref=cm_cr_arp_d_paging_btm_next_2?ie=UTF8&reviewerType=all_reviews&pageNumber=\",\n",
        "\"https://www.amazon.com.br/Rohan-No-Louvre-Exclusivo-Amazon/product-reviews/859369554X/ref=cm_cr_arp_d_paging_btm_next_2?ie=UTF8&reviewerType=all_reviews&pageNumber=\",\n",
        "\"https://www.amazon.com.br/Os-Mitos-Cthulhu-Exclusivo-Amazon/product-reviews/8593695264/ref=cm_cr_arp_d_paging_btm_next_2?ie=UTF8&reviewerType=all_reviews&pageNumber=\",\n",
        "\"https://www.amazon.com.br/Lone-Sloane-%C3%9Anico-Exclusivo-Amazon/product-reviews/8593695205/ref=cm_cr_arp_d_paging_btm_next_2?ie=UTF8&reviewerType=all_reviews&pageNumber=\",\n",
        "\"https://www.amazon.com.br/Uma-Dobra-Tempo-Madeleine-LEngle/product-reviews/8594541023/ref=cm_cr_arp_d_paging_btm_next_2?ie=UTF8&reviewerType=all_reviews&pageNumber=\",\n",
        "\"https://www.amazon.com.br/Corvo-Edi%C3%A7%C3%A3o-Definitiva-James-Obarr/product-reviews/859454118X/ref=cm_cr_arp_d_paging_btm_next_2?ie=UTF8&reviewerType=all_reviews&pageNumber=\",\n",
        "\"https://www.amazon.com.br/Imagin%C3%A1rio-Coletivo-Wesley-Rodrigues/product-reviews/8594541309/ref=cm_cr_arp_d_paging_btm_next_2?ie=UTF8&reviewerType=all_reviews&pageNumber=\",\n",
        "\"https://www.amazon.com.br/Refugiados-%C3%9Altima-Fronteira-Kate-Evans/product-reviews/8594541295/ref=cm_cr_arp_d_paging_btm_next_2?ie=UTF8&reviewerType=all_reviews&pageNumber=\",\n",
        "\"https://www.amazon.com.br/Shir%C3%B4-Danilo-Beyruth/product-reviews/8594541392/ref=cm_cr_arp_d_paging_btm_next_2?ie=UTF8&reviewerType=all_reviews&pageNumber=\",\n",
        "\"https://www.amazon.com.br/Neurocomic-Caverna-das-Mem%C3%B3rias-Hana/product-reviews/8594541074/ref=cm_cr_arp_d_paging_btm_next_2?ie=UTF8&reviewerType=all_reviews&pageNumber=\",\n",
        "\"https://www.amazon.com.br/Meu-Amigo-Dahmer-Derf-Backderf/product-reviews/8594540353/ref=cm_cr_arp_d_paging_btm_next_2?ie=UTF8&reviewerType=all_reviews&pageNumber=\",\n",
        "\"https://www.amazon.com.br/Floresta-dos-medos-Emily-Carroll/product-reviews/8594541406/ref=cm_cr_arp_d_paging_btm_next_2?ie=UTF8&reviewerType=all_reviews&pageNumber=\",\n",
        "\"https://www.amazon.com.br/Aurora-Sombras-Fabien-Vehlmann-Kerasco%C3%ABt/product-reviews/8594541643/ref=cm_cr_arp_d_paging_btm_next_2?ie=UTF8&reviewerType=all_reviews&pageNumber=\",\n",
        "\"https://www.amazon.com.br/Exorcismo-Ritual-Romano-El-Torres/product-reviews/8594541678/ref=cm_cr_arp_d_paging_btm_next_2?ie=UTF8&reviewerType=all_reviews&pageNumber=\",\n",
        "\"https://www.amazon.com.br/30-Dias-Noite-Edi%C3%A7%C3%A3o-Comemorativa/product-reviews/8594541260/ref=cm_cr_arp_d_paging_btm_next_2?ie=UTF8&reviewerType=all_reviews&pageNumber=\",\n",
        "\"https://www.amazon.com.br/Silvestre-Wagner-Willian/product-reviews/8594541910/ref=cm_cr_arp_d_paging_btm_next_2?ie=UTF8&reviewerType=all_reviews&pageNumber=\",\n",
        "\"https://www.amazon.com.br/Vida-Gato-Serge-Baeken/product-reviews/8594542178/ref=cm_cr_arp_d_paging_btm_next_2?ie=UTF8&reviewerType=all_reviews&pageNumber=\",\n",
        "\"https://www.amazon.com.br/Separados-Scott-Snyder/product-reviews/6555980117/ref=cm_cr_arp_d_paging_btm_next_2?ie=UTF8&reviewerType=all_reviews&pageNumber=\",\n",
        "\"https://www.amazon.com.br/Menina-Outro-lado-Vol/product-reviews/8594541740/ref=cm_cr_arp_d_paging_btm_next_2?ie=UTF8&reviewerType=all_reviews&pageNumber=\",\n",
        "\"https://www.amazon.com.br/Menina-Outro-Lado-Nagabe/product-reviews/8594541732/ref=cm_cr_arp_d_paging_btm_next_2?ie=UTF8&reviewerType=all_reviews&pageNumber=\",\n",
        "\"https://www.amazon.com.br/Menina-Outro-lado-Vol/product-reviews/8594541619/ref=cm_cr_arp_d_paging_btm_next_2?ie=UTF8&reviewerType=all_reviews&pageNumber=\",\n",
        "\"https://www.amazon.com.br/Menina-do-Outro-Lado/product-reviews/8594541554/ref=cm_cr_arp_d_paging_btm_next_2?ie=UTF8&reviewerType=all_reviews&pageNumber=\",\n",
        "\"https://www.amazon.com.br/Pr%C3%ADncipe-Costureira-Jen-Wang/product-reviews/6555980109/ref=cm_cr_arp_d_paging_btm_next_2?ie=UTF8&reviewerType=all_reviews&pageNumber=\",\n",
        "\"https://www.amazon.com.br/Fragmentos-do-Horror-Junji-Ito/product-reviews/8594540361/ref=cm_cr_arp_d_paging_btm_next_2?ie=UTF8&reviewerType=all_reviews&pageNumber=\",\n",
        "\"https://www.amazon.com.br/Um-Lugar-Bem-Longe-Daqui/product-reviews/8551004867/ref=cm_cr_arp_d_paging_btm_next_2?ie=UTF8&reviewerType=all_reviews&pageNumber=\",\n",
        "\"https://www.amazon.com.br/Pai-rico-pai-pobre-anos/product-reviews/8550801488/ref=cm_cr_arp_d_paging_btm_next_2?ie=UTF8&reviewerType=all_reviews&pageNumber=\",\n",
        "\"https://www.amazon.com.br/Labirinto-Fauno-Guillermo-Del-Toro/product-reviews/8551005197/ref=cm_cr_arp_d_paging_btm_next_2?ie=UTF8&reviewerType=all_reviews&pageNumber=\",\n",
        "\"https://www.amazon.com.br/morro-dos-ventos-uivantes/product-reviews/8594318235/ref=cm_cr_arp_d_paging_btm_next_2?ie=UTF8&reviewerType=all_reviews&pageNumber=\",\n",
        "\"https://www.amazon.com.br/Que-Aconteceu-Com-Annie/product-reviews/8551004751/ref=cm_cr_arp_d_paging_btm_next_2?ie=UTF8&reviewerType=all_reviews&pageNumber=\"\n",
        "\"https://www.amazon.com.br/Homem-Giz-C-J-Tudor/product-reviews/8551002937/ref=cm_cr_arp_d_paging_btm_next_2?ie=UTF8&reviewerType=all_reviews&pageNumber=\",\n",
        "\"https://www.amazon.com.br/Conto-Aia-Margaret-Atwood/product-reviews/8532520669/ref=cm_cr_arp_d_paging_btm_next_2?ie=UTF8&reviewerType=all_reviews&pageNumber=\",\n",
        "\"https://www.amazon.com.br/Sutil-Arte-Ligar-Se/product-reviews/855100249X/ref=cm_cr_arp_d_paging_btm_next_2?ie=UTF8&reviewerType=all_reviews&pageNumber=\",\n",
        "\"https://www.amazon.com.br/Garota-do-Lago-Charlie-Donlea/product-reviews/856240988X/ref=cm_cr_arp_d_paging_btm_next_2?ie=UTF8&reviewerType=all_reviews&pageNumber=\"\n",
        "}\n"
      ]
    },
    {
      "cell_type": "code",
      "execution_count": null,
      "id": "a9b18793",
      "metadata": {
        "id": "a9b18793",
        "outputId": "788c5c3b-be0d-4b51-cec1-5366ba89de15"
      },
      "outputs": [
        {
          "name": "stdout",
          "output_type": "stream",
          "text": [
            "28\n"
          ]
        }
      ],
      "source": [
        "url_products = list(url_products)\n",
        "print(len(url_products))"
      ]
    },
    {
      "cell_type": "code",
      "execution_count": null,
      "id": "5c7459d5",
      "metadata": {
        "id": "5c7459d5"
      },
      "outputs": [],
      "source": [
        "\n",
        "def get_reviews(soup):\n",
        "    reviews = soup.find_all(\"div\", {\"data-hook\": \"review\"})\n",
        "    try:\n",
        "        for item in reviews:\n",
        "            review = {\n",
        "            \"Product\": soup.title.text.replace(\"Amazon.com.br:Avaliação de clientes: \", \"\").strip(),\n",
        "            \"rate\" : float(item.find(\"span\",{\"class\": \"a-icon-alt\"} ).text.replace(\" de 5 estrelas\",\"\").replace(\",\",\".\").strip()),\n",
        "            \"title\" : item.find(\"a\",{\"data-hook\": \"review-title\"} ).text.strip(),\n",
        "            \"review_body\": item.find(\"span\", {\"data-hook\": \"review-body\"}).text.strip(),\n",
        "            }\n",
        "            reviewlist.append(review)\n",
        "    except:\n",
        "        pass"
      ]
    },
    {
      "cell_type": "code",
      "execution_count": null,
      "id": "a41cc13e",
      "metadata": {
        "id": "a41cc13e",
        "outputId": "6129fdef-aad2-45b6-b5a8-4a431ea126c4"
      },
      "outputs": [
        {
          "name": "stdout",
          "output_type": "stream",
          "text": [
            "geting page: 1\n",
            "10\n",
            "geting page: 2\n",
            "20\n",
            "geting page: 3\n",
            "28\n",
            "geting page: 1\n",
            "38\n",
            "geting page: 2\n",
            "48\n",
            "geting page: 3\n",
            "58\n",
            "geting page: 4\n",
            "64\n",
            "geting page: 1\n",
            "74\n",
            "geting page: 2\n",
            "84\n",
            "geting page: 3\n",
            "94\n",
            "geting page: 4\n",
            "104\n",
            "geting page: 5\n",
            "114\n",
            "geting page: 6\n",
            "124\n",
            "geting page: 7\n",
            "134\n",
            "geting page: 8\n",
            "144\n",
            "geting page: 9\n",
            "154\n",
            "geting page: 10\n",
            "164\n",
            "geting page: 11\n",
            "174\n",
            "geting page: 12\n",
            "184\n",
            "geting page: 13\n",
            "194\n",
            "geting page: 14\n",
            "204\n",
            "geting page: 15\n",
            "214\n",
            "geting page: 16\n",
            "224\n",
            "geting page: 17\n",
            "234\n",
            "geting page: 18\n",
            "244\n",
            "geting page: 19\n",
            "254\n",
            "geting page: 20\n",
            "264\n",
            "geting page: 21\n",
            "274\n",
            "geting page: 22\n",
            "284\n",
            "geting page: 23\n",
            "294\n",
            "geting page: 24\n",
            "304\n",
            "geting page: 25\n",
            "314\n",
            "geting page: 26\n",
            "324\n",
            "geting page: 27\n",
            "334\n",
            "geting page: 28\n",
            "344\n",
            "geting page: 29\n",
            "354\n",
            "geting page: 30\n",
            "364\n",
            "geting page: 31\n",
            "374\n",
            "geting page: 32\n",
            "384\n",
            "geting page: 33\n",
            "394\n",
            "geting page: 34\n",
            "404\n",
            "geting page: 1\n",
            "414\n",
            "geting page: 2\n",
            "424\n",
            "geting page: 3\n",
            "434\n",
            "geting page: 4\n",
            "444\n",
            "geting page: 5\n",
            "454\n",
            "geting page: 6\n",
            "464\n",
            "geting page: 7\n",
            "474\n",
            "geting page: 8\n",
            "484\n",
            "geting page: 1\n",
            "494\n",
            "geting page: 2\n",
            "504\n",
            "geting page: 3\n",
            "514\n",
            "geting page: 4\n",
            "524\n",
            "geting page: 5\n",
            "534\n",
            "geting page: 6\n",
            "544\n",
            "geting page: 7\n",
            "554\n",
            "geting page: 8\n",
            "564\n",
            "geting page: 9\n",
            "574\n",
            "geting page: 10\n",
            "581\n",
            "geting page: 1\n",
            "591\n",
            "geting page: 2\n",
            "601\n",
            "geting page: 3\n",
            "605\n",
            "geting page: 1\n",
            "615\n",
            "geting page: 2\n",
            "625\n",
            "geting page: 3\n",
            "635\n",
            "geting page: 4\n",
            "636\n",
            "geting page: 1\n",
            "646\n",
            "geting page: 2\n",
            "656\n",
            "geting page: 3\n",
            "666\n",
            "geting page: 4\n",
            "676\n",
            "geting page: 5\n",
            "686\n",
            "geting page: 6\n",
            "696\n",
            "geting page: 7\n",
            "706\n",
            "geting page: 8\n",
            "716\n",
            "geting page: 9\n",
            "726\n",
            "geting page: 10\n",
            "736\n",
            "geting page: 11\n",
            "746\n",
            "geting page: 12\n",
            "756\n",
            "geting page: 13\n",
            "766\n",
            "geting page: 14\n",
            "776\n",
            "geting page: 15\n",
            "786\n",
            "geting page: 16\n",
            "796\n",
            "geting page: 17\n",
            "806\n",
            "geting page: 18\n",
            "816\n",
            "geting page: 19\n",
            "826\n",
            "geting page: 20\n",
            "836\n",
            "geting page: 21\n",
            "846\n",
            "geting page: 22\n",
            "856\n",
            "geting page: 23\n",
            "866\n",
            "geting page: 24\n",
            "876\n",
            "geting page: 25\n",
            "886\n",
            "geting page: 26\n",
            "896\n",
            "geting page: 27\n",
            "906\n",
            "geting page: 28\n",
            "916\n",
            "geting page: 29\n",
            "926\n",
            "geting page: 30\n",
            "936\n",
            "geting page: 31\n",
            "946\n",
            "geting page: 32\n",
            "956\n",
            "geting page: 33\n",
            "966\n",
            "geting page: 34\n",
            "976\n",
            "geting page: 1\n",
            "986\n",
            "geting page: 2\n",
            "996\n",
            "geting page: 3\n",
            "1006\n",
            "geting page: 4\n",
            "1015\n",
            "geting page: 1\n",
            "1025\n",
            "geting page: 2\n",
            "1035\n",
            "geting page: 3\n",
            "1045\n",
            "geting page: 4\n",
            "1055\n",
            "geting page: 5\n",
            "1065\n",
            "geting page: 6\n",
            "1075\n",
            "geting page: 7\n",
            "1085\n",
            "geting page: 8\n",
            "1095\n",
            "geting page: 9\n",
            "1105\n",
            "geting page: 10\n",
            "1115\n",
            "geting page: 11\n",
            "1125\n",
            "geting page: 12\n",
            "1135\n",
            "geting page: 13\n",
            "1145\n",
            "geting page: 14\n",
            "1155\n",
            "geting page: 15\n",
            "1165\n",
            "geting page: 16\n",
            "1175\n",
            "geting page: 17\n",
            "1185\n",
            "geting page: 18\n",
            "1195\n",
            "geting page: 19\n",
            "1205\n",
            "geting page: 20\n",
            "1215\n",
            "geting page: 21\n",
            "1225\n",
            "geting page: 22\n",
            "1235\n",
            "geting page: 23\n",
            "1245\n",
            "geting page: 24\n",
            "1255\n",
            "geting page: 25\n",
            "1265\n",
            "geting page: 26\n",
            "1275\n",
            "geting page: 27\n",
            "1285\n",
            "geting page: 28\n",
            "1295\n",
            "geting page: 29\n",
            "1305\n",
            "geting page: 30\n",
            "1315\n",
            "geting page: 31\n",
            "1325\n",
            "geting page: 32\n",
            "1335\n",
            "geting page: 33\n",
            "1345\n",
            "geting page: 34\n",
            "1355\n",
            "geting page: 1\n",
            "1365\n",
            "geting page: 2\n",
            "1375\n",
            "geting page: 3\n",
            "1385\n",
            "geting page: 4\n",
            "1395\n",
            "geting page: 5\n",
            "1405\n",
            "geting page: 6\n",
            "1415\n",
            "geting page: 7\n",
            "1425\n",
            "geting page: 8\n",
            "1435\n",
            "geting page: 9\n",
            "1445\n",
            "geting page: 10\n",
            "1455\n",
            "geting page: 11\n",
            "1465\n",
            "geting page: 12\n",
            "1475\n",
            "geting page: 13\n",
            "1485\n",
            "geting page: 14\n",
            "1495\n",
            "geting page: 15\n",
            "1505\n",
            "geting page: 16\n",
            "1515\n",
            "geting page: 17\n",
            "1525\n",
            "geting page: 18\n",
            "1535\n",
            "geting page: 19\n",
            "1545\n",
            "geting page: 20\n",
            "1555\n",
            "geting page: 21\n",
            "1565\n",
            "geting page: 22\n",
            "1575\n",
            "geting page: 23\n",
            "1585\n",
            "geting page: 24\n",
            "1595\n",
            "geting page: 25\n",
            "1605\n",
            "geting page: 26\n",
            "1615\n",
            "geting page: 27\n",
            "1625\n",
            "geting page: 28\n",
            "1635\n",
            "geting page: 29\n",
            "1645\n",
            "geting page: 30\n",
            "1655\n",
            "geting page: 31\n",
            "1665\n",
            "geting page: 32\n",
            "1675\n",
            "geting page: 33\n",
            "1685\n",
            "geting page: 34\n",
            "1695\n",
            "geting page: 1\n",
            "1705\n",
            "geting page: 2\n",
            "1715\n",
            "geting page: 3\n",
            "1725\n",
            "geting page: 4\n",
            "1735\n",
            "geting page: 5\n",
            "1742\n",
            "geting page: 1\n",
            "1752\n",
            "geting page: 2\n",
            "1762\n",
            "geting page: 3\n",
            "1772\n",
            "geting page: 4\n",
            "1782\n",
            "geting page: 5\n",
            "1792\n",
            "geting page: 6\n",
            "1802\n",
            "geting page: 7\n",
            "1812\n",
            "geting page: 8\n",
            "1822\n",
            "geting page: 9\n",
            "1832\n",
            "geting page: 10\n",
            "1836\n",
            "geting page: 1\n",
            "1846\n",
            "geting page: 2\n",
            "1856\n",
            "geting page: 3\n",
            "1866\n",
            "geting page: 4\n",
            "1876\n",
            "geting page: 5\n",
            "1886\n",
            "geting page: 6\n",
            "1896\n",
            "geting page: 7\n",
            "1906\n",
            "geting page: 8\n",
            "1916\n",
            "geting page: 9\n",
            "1926\n",
            "geting page: 10\n",
            "1936\n",
            "geting page: 11\n",
            "1946\n",
            "geting page: 12\n",
            "1956\n",
            "geting page: 13\n",
            "1966\n",
            "geting page: 14\n",
            "1976\n",
            "geting page: 15\n",
            "1986\n",
            "geting page: 16\n",
            "1996\n",
            "geting page: 17\n",
            "2006\n",
            "geting page: 18\n",
            "2016\n",
            "geting page: 19\n",
            "2026\n",
            "geting page: 20\n",
            "2036\n",
            "geting page: 21\n",
            "2046\n",
            "geting page: 22\n",
            "2056\n",
            "geting page: 23\n",
            "2066\n",
            "geting page: 24\n",
            "2076\n",
            "geting page: 1\n",
            "2086\n",
            "geting page: 2\n",
            "2096\n",
            "geting page: 3\n",
            "2106\n",
            "geting page: 4\n",
            "2116\n",
            "geting page: 5\n",
            "2126\n",
            "geting page: 6\n",
            "2136\n",
            "geting page: 7\n",
            "2146\n",
            "geting page: 8\n",
            "2156\n",
            "geting page: 9\n",
            "2166\n",
            "geting page: 10\n",
            "2176\n",
            "geting page: 11\n",
            "2186\n",
            "geting page: 12\n",
            "2196\n",
            "geting page: 13\n",
            "2206\n",
            "geting page: 14\n",
            "2207\n",
            "geting page: 1\n",
            "2217\n",
            "geting page: 2\n",
            "2227\n",
            "geting page: 3\n",
            "2237\n",
            "geting page: 4\n",
            "2247\n",
            "geting page: 5\n",
            "2252\n",
            "geting page: 1\n",
            "2262\n",
            "geting page: 2\n",
            "2272\n",
            "geting page: 3\n",
            "2282\n",
            "geting page: 4\n",
            "2292\n",
            "geting page: 5\n",
            "2302\n",
            "geting page: 6\n",
            "2312\n",
            "geting page: 7\n",
            "2322\n",
            "geting page: 8\n",
            "2332\n",
            "geting page: 9\n",
            "2342\n",
            "geting page: 10\n",
            "2352\n",
            "geting page: 11\n",
            "2362\n",
            "geting page: 12\n",
            "2372\n",
            "geting page: 13\n",
            "2382\n",
            "geting page: 14\n",
            "2392\n",
            "geting page: 15\n",
            "2402\n",
            "geting page: 16\n",
            "2412\n",
            "geting page: 17\n",
            "2422\n",
            "geting page: 18\n",
            "2432\n",
            "geting page: 19\n",
            "2442\n",
            "geting page: 20\n",
            "2452\n",
            "geting page: 21\n",
            "2462\n",
            "geting page: 22\n",
            "2472\n",
            "geting page: 23\n",
            "2482\n",
            "geting page: 24\n",
            "2492\n",
            "geting page: 25\n",
            "2502\n",
            "geting page: 26\n",
            "2512\n",
            "geting page: 27\n",
            "2512\n",
            "geting page: 28\n",
            "2522\n",
            "geting page: 29\n",
            "2532\n",
            "geting page: 30\n",
            "2542\n",
            "geting page: 31\n",
            "2552\n",
            "geting page: 32\n",
            "2562\n",
            "geting page: 33\n",
            "2572\n",
            "geting page: 34\n",
            "2582\n",
            "geting page: 1\n",
            "2592\n",
            "geting page: 2\n",
            "2597\n",
            "geting page: 1\n",
            "2607\n",
            "geting page: 2\n",
            "2617\n",
            "geting page: 3\n",
            "2627\n",
            "geting page: 4\n",
            "2637\n",
            "geting page: 5\n",
            "2647\n",
            "geting page: 6\n",
            "2650\n",
            "geting page: 1\n",
            "2660\n",
            "geting page: 2\n",
            "2666\n",
            "geting page: 1\n",
            "2676\n",
            "geting page: 2\n",
            "2686\n",
            "geting page: 3\n",
            "2696\n",
            "geting page: 4\n",
            "2706\n",
            "geting page: 5\n",
            "2716\n",
            "geting page: 6\n",
            "2726\n",
            "geting page: 7\n",
            "2736\n",
            "geting page: 8\n",
            "2746\n",
            "geting page: 9\n",
            "2756\n",
            "geting page: 10\n",
            "2766\n",
            "geting page: 11\n",
            "2776\n",
            "geting page: 12\n",
            "2786\n",
            "geting page: 13\n",
            "2796\n",
            "geting page: 14\n",
            "2806\n",
            "geting page: 15\n",
            "2816\n",
            "geting page: 16\n",
            "2826\n",
            "geting page: 17\n",
            "2836\n",
            "geting page: 18\n",
            "2846\n",
            "geting page: 19\n",
            "2856\n",
            "geting page: 20\n",
            "2866\n",
            "geting page: 21\n",
            "2876\n",
            "geting page: 22\n",
            "2886\n",
            "geting page: 23\n",
            "2896\n",
            "geting page: 24\n",
            "2906\n",
            "geting page: 25\n",
            "2916\n",
            "geting page: 26\n",
            "2926\n",
            "geting page: 27\n",
            "2932\n",
            "geting page: 1\n",
            "2942\n",
            "geting page: 2\n",
            "2952\n",
            "geting page: 3\n",
            "2962\n",
            "geting page: 4\n",
            "2972\n",
            "geting page: 5\n",
            "2979\n",
            "geting page: 1\n",
            "2989\n",
            "geting page: 2\n",
            "2999\n",
            "geting page: 3\n",
            "3009\n",
            "geting page: 4\n",
            "3019\n",
            "geting page: 5\n",
            "3029\n",
            "geting page: 6\n",
            "3039\n",
            "geting page: 7\n",
            "3049\n",
            "geting page: 8\n",
            "3059\n",
            "geting page: 9\n",
            "3069\n",
            "geting page: 10\n",
            "3079\n",
            "geting page: 11\n",
            "3089\n",
            "geting page: 12\n",
            "3099\n",
            "geting page: 13\n",
            "3109\n",
            "geting page: 14\n",
            "3119\n",
            "geting page: 15\n",
            "3129\n",
            "geting page: 16\n",
            "3139\n",
            "geting page: 17\n",
            "3149\n",
            "geting page: 18\n",
            "3159\n",
            "geting page: 19\n",
            "3169\n",
            "geting page: 20\n",
            "3179\n",
            "geting page: 21\n",
            "3189\n",
            "geting page: 22\n",
            "3199\n",
            "geting page: 23\n",
            "3209\n",
            "geting page: 24\n",
            "3219\n",
            "geting page: 25\n",
            "3229\n",
            "geting page: 26\n",
            "3239\n",
            "geting page: 27\n",
            "3249\n",
            "geting page: 28\n",
            "3259\n",
            "geting page: 29\n",
            "3269\n",
            "geting page: 30\n",
            "3279\n",
            "geting page: 31\n",
            "3289\n",
            "geting page: 32\n",
            "3299\n",
            "geting page: 33\n",
            "3309\n",
            "geting page: 34\n",
            "3319\n",
            "geting page: 1\n",
            "3329\n",
            "geting page: 2\n",
            "3339\n",
            "geting page: 3\n",
            "3349\n",
            "geting page: 4\n",
            "3359\n",
            "geting page: 5\n",
            "3369\n",
            "geting page: 6\n",
            "3379\n",
            "geting page: 7\n",
            "3384\n",
            "geting page: 1\n",
            "3394\n",
            "geting page: 2\n",
            "3404\n",
            "geting page: 3\n",
            "3414\n",
            "geting page: 4\n",
            "3420\n",
            "geting page: 1\n",
            "3430\n",
            "geting page: 2\n",
            "3440\n",
            "geting page: 3\n",
            "3450\n",
            "geting page: 4\n",
            "3460\n",
            "geting page: 5\n",
            "3470\n",
            "geting page: 6\n",
            "3480\n",
            "geting page: 7\n",
            "3490\n",
            "geting page: 8\n",
            "3500\n",
            "geting page: 9\n",
            "3510\n",
            "geting page: 10\n",
            "3520\n",
            "geting page: 11\n",
            "3530\n",
            "geting page: 12\n",
            "3540\n",
            "geting page: 13\n",
            "3550\n",
            "geting page: 14\n",
            "3560\n",
            "geting page: 15\n",
            "3570\n",
            "geting page: 16\n",
            "3580\n",
            "geting page: 17\n",
            "3590\n",
            "geting page: 18\n",
            "3600\n",
            "geting page: 19\n",
            "3610\n",
            "geting page: 20\n",
            "3620\n",
            "geting page: 21\n",
            "3630\n",
            "geting page: 22\n",
            "3640\n",
            "geting page: 23\n",
            "3650\n",
            "geting page: 24\n",
            "3660\n",
            "geting page: 25\n",
            "3670\n",
            "geting page: 26\n",
            "3680\n",
            "geting page: 27\n",
            "3690\n",
            "geting page: 28\n",
            "3700\n",
            "geting page: 29\n",
            "3710\n",
            "geting page: 30\n",
            "3720\n",
            "geting page: 31\n",
            "3730\n",
            "geting page: 32\n",
            "3740\n",
            "geting page: 33\n",
            "3750\n",
            "geting page: 34\n",
            "3760\n",
            "geting page: 1\n",
            "3770\n",
            "geting page: 2\n",
            "3780\n",
            "geting page: 3\n",
            "3790\n",
            "geting page: 4\n",
            "3800\n",
            "geting page: 5\n",
            "3810\n",
            "geting page: 6\n",
            "3820\n",
            "geting page: 7\n",
            "3830\n",
            "geting page: 8\n",
            "3840\n",
            "geting page: 9\n",
            "3850\n",
            "geting page: 10\n",
            "3860\n",
            "geting page: 11\n",
            "3870\n",
            "geting page: 12\n",
            "3880\n",
            "geting page: 13\n",
            "3890\n",
            "geting page: 14\n",
            "3900\n",
            "geting page: 15\n",
            "3910\n",
            "geting page: 16\n",
            "3920\n",
            "geting page: 17\n",
            "3930\n",
            "geting page: 18\n",
            "3940\n",
            "geting page: 19\n",
            "3950\n"
          ]
        },
        {
          "name": "stdout",
          "output_type": "stream",
          "text": [
            "geting page: 20\n",
            "3960\n",
            "geting page: 21\n",
            "3970\n",
            "geting page: 22\n",
            "3980\n",
            "geting page: 23\n",
            "3990\n",
            "geting page: 24\n",
            "4000\n",
            "geting page: 25\n",
            "4010\n",
            "geting page: 26\n",
            "4020\n",
            "geting page: 27\n",
            "4030\n",
            "geting page: 28\n",
            "4040\n",
            "geting page: 29\n",
            "4050\n",
            "geting page: 30\n",
            "4060\n",
            "geting page: 31\n",
            "4070\n",
            "geting page: 32\n",
            "4080\n",
            "geting page: 33\n",
            "4090\n",
            "geting page: 34\n",
            "4100\n",
            "geting page: 1\n",
            "4110\n",
            "geting page: 2\n",
            "4120\n",
            "geting page: 3\n",
            "4130\n",
            "geting page: 4\n",
            "4140\n",
            "geting page: 5\n",
            "4150\n",
            "geting page: 6\n",
            "4160\n",
            "geting page: 7\n",
            "4170\n",
            "geting page: 8\n",
            "4180\n",
            "geting page: 9\n",
            "4190\n",
            "geting page: 10\n",
            "4200\n",
            "geting page: 11\n",
            "4210\n",
            "geting page: 12\n",
            "4220\n",
            "geting page: 13\n",
            "4230\n",
            "geting page: 14\n",
            "4240\n",
            "geting page: 15\n",
            "4250\n",
            "geting page: 16\n",
            "4260\n",
            "geting page: 17\n",
            "4270\n",
            "geting page: 18\n",
            "4280\n",
            "geting page: 19\n",
            "4290\n",
            "geting page: 20\n",
            "4300\n",
            "geting page: 21\n",
            "4310\n",
            "geting page: 22\n",
            "4320\n",
            "geting page: 23\n",
            "4330\n",
            "geting page: 24\n",
            "4340\n",
            "geting page: 25\n",
            "4350\n",
            "geting page: 26\n",
            "4360\n",
            "geting page: 27\n",
            "4370\n",
            "geting page: 28\n",
            "4380\n",
            "geting page: 29\n",
            "4390\n",
            "geting page: 30\n",
            "4400\n",
            "geting page: 31\n",
            "4410\n",
            "geting page: 32\n",
            "4420\n",
            "geting page: 33\n",
            "4430\n",
            "geting page: 34\n",
            "4440\n"
          ]
        }
      ],
      "source": [
        "reviewlist = []\n",
        "n = 0\n",
        "while n < len(url_products):\n",
        "    for x in range(1,35):\n",
        "        soup = get_soup(f\"{url_products[n]}{x}\")\n",
        "        print(f\"geting page: {x}\")\n",
        "        get_reviews(soup)\n",
        "        print(len(reviewlist))\n",
        "        if not soup.find(\"li\", {\"class\": \"a-disabled a-last\"}):\n",
        "            pass\n",
        "        else:\n",
        "            break\n",
        "    n = n+1"
      ]
    },
    {
      "cell_type": "code",
      "execution_count": null,
      "id": "2fccaa16",
      "metadata": {
        "id": "2fccaa16"
      },
      "outputs": [],
      "source": [
        "df = pd.DataFrame(reviewlist)"
      ]
    },
    {
      "cell_type": "code",
      "execution_count": null,
      "id": "1f8929f7",
      "metadata": {
        "id": "1f8929f7"
      },
      "outputs": [],
      "source": [
        "df.to_excel(\"Amazon_Reviews.xlsx\", index = False)"
      ]
    },
    {
      "cell_type": "code",
      "execution_count": null,
      "id": "c159249b",
      "metadata": {
        "id": "c159249b"
      },
      "outputs": [],
      "source": [
        "df.to_csv(\"Amazon_Reviews.csv\", index = False)"
      ]
    },
    {
      "cell_type": "code",
      "execution_count": null,
      "id": "00a8b4ca",
      "metadata": {
        "id": "00a8b4ca",
        "outputId": "50d3ca47-f14b-4bbb-85ab-6944bd54cd9c"
      },
      "outputs": [
        {
          "data": {
            "text/html": [
              "<div>\n",
              "<style scoped>\n",
              "    .dataframe tbody tr th:only-of-type {\n",
              "        vertical-align: middle;\n",
              "    }\n",
              "\n",
              "    .dataframe tbody tr th {\n",
              "        vertical-align: top;\n",
              "    }\n",
              "\n",
              "    .dataframe thead th {\n",
              "        text-align: right;\n",
              "    }\n",
              "</style>\n",
              "<table border=\"1\" class=\"dataframe\">\n",
              "  <thead>\n",
              "    <tr style=\"text-align: right;\">\n",
              "      <th></th>\n",
              "      <th>Product</th>\n",
              "      <th>rate</th>\n",
              "      <th>title</th>\n",
              "      <th>review_body</th>\n",
              "    </tr>\n",
              "  </thead>\n",
              "  <tbody>\n",
              "    <tr>\n",
              "      <th>0</th>\n",
              "      <td>A Grande Odalisca (volume Exclusivo Amazon)</td>\n",
              "      <td>3.0</td>\n",
              "      <td>Sessão da tarde 16+</td>\n",
              "      <td>Parabenizo o trio de editores pela tentativa d...</td>\n",
              "    </tr>\n",
              "    <tr>\n",
              "      <th>1</th>\n",
              "      <td>A Grande Odalisca (volume Exclusivo Amazon)</td>\n",
              "      <td>3.0</td>\n",
              "      <td>Mais ou menos</td>\n",
              "      <td>Boa história, linda arte. Mas muito curta e mu...</td>\n",
              "    </tr>\n",
              "    <tr>\n",
              "      <th>2</th>\n",
              "      <td>A Grande Odalisca (volume Exclusivo Amazon)</td>\n",
              "      <td>5.0</td>\n",
              "      <td>Uma preciosidade no catálogo do PN</td>\n",
              "      <td>Quadrinhos franco-belgas são sempre considerad...</td>\n",
              "    </tr>\n",
              "    <tr>\n",
              "      <th>3</th>\n",
              "      <td>A Grande Odalisca (volume Exclusivo Amazon)</td>\n",
              "      <td>5.0</td>\n",
              "      <td>Uns 90 minutos muito bem aproveitados.</td>\n",
              "      <td>Uma leitura rápida, interessante e bastante di...</td>\n",
              "    </tr>\n",
              "    <tr>\n",
              "      <th>4</th>\n",
              "      <td>A Grande Odalisca (volume Exclusivo Amazon)</td>\n",
              "      <td>5.0</td>\n",
              "      <td>Ótimo quadrinho francês</td>\n",
              "      <td>O lançamento do PN de outubro é esse quadrinho...</td>\n",
              "    </tr>\n",
              "  </tbody>\n",
              "</table>\n",
              "</div>"
            ],
            "text/plain": [
              "                                       Product  rate  \\\n",
              "0  A Grande Odalisca (volume Exclusivo Amazon)   3.0   \n",
              "1  A Grande Odalisca (volume Exclusivo Amazon)   3.0   \n",
              "2  A Grande Odalisca (volume Exclusivo Amazon)   5.0   \n",
              "3  A Grande Odalisca (volume Exclusivo Amazon)   5.0   \n",
              "4  A Grande Odalisca (volume Exclusivo Amazon)   5.0   \n",
              "\n",
              "                                    title  \\\n",
              "0                     Sessão da tarde 16+   \n",
              "1                           Mais ou menos   \n",
              "2      Uma preciosidade no catálogo do PN   \n",
              "3  Uns 90 minutos muito bem aproveitados.   \n",
              "4                 Ótimo quadrinho francês   \n",
              "\n",
              "                                         review_body  \n",
              "0  Parabenizo o trio de editores pela tentativa d...  \n",
              "1  Boa história, linda arte. Mas muito curta e mu...  \n",
              "2  Quadrinhos franco-belgas são sempre considerad...  \n",
              "3  Uma leitura rápida, interessante e bastante di...  \n",
              "4  O lançamento do PN de outubro é esse quadrinho...  "
            ]
          },
          "execution_count": 23,
          "metadata": {},
          "output_type": "execute_result"
        }
      ],
      "source": [
        "df.head()"
      ]
    },
    {
      "cell_type": "code",
      "execution_count": null,
      "id": "63c2201f",
      "metadata": {
        "id": "63c2201f",
        "outputId": "c444f812-3ffd-4160-bcdb-de9246cbc8a0"
      },
      "outputs": [
        {
          "name": "stdout",
          "output_type": "stream",
          "text": [
            "O DataFrame possui: 15548 linhas e 4 colunas\n"
          ]
        }
      ],
      "source": [
        "print(f\"O DataFrame possui: {df.shape[0]} linhas e {df.shape[1]} colunas\")"
      ]
    },
    {
      "cell_type": "code",
      "execution_count": null,
      "id": "7f76ff4c",
      "metadata": {
        "id": "7f76ff4c",
        "outputId": "c3b84fb9-57cd-49cf-a643-3363e36af422"
      },
      "outputs": [
        {
          "data": {
            "text/plain": [
              "'Parabenizo o trio de editores pela tentativa de trazer quadrinhos fora do mainstream.A história prende, mas não surpreendente.Arte acima da média com cenas de ação bem desenvolvidas, assim como um roteiro bem amarrado.Minha avaliação não foi maior pelo custo benefício. A editora prima de mais pelo acabamento e encarece um produto, que na minha opinião, poderia vir sem tanto luxo e mais acessível.'"
            ]
          },
          "execution_count": 219,
          "metadata": {},
          "output_type": "execute_result"
        }
      ],
      "source": [
        "df[\"review_body\"][0]"
      ]
    },
    {
      "cell_type": "code",
      "execution_count": null,
      "id": "0468426b",
      "metadata": {
        "id": "0468426b"
      },
      "outputs": [],
      "source": [
        "df = pd.read_csv(\"Amazon_Reviews.csv\")"
      ]
    },
    {
      "cell_type": "code",
      "execution_count": null,
      "id": "47ca85fc",
      "metadata": {
        "id": "47ca85fc",
        "outputId": "55b058b8-e15f-4cdd-8298-31eede240007"
      },
      "outputs": [
        {
          "data": {
            "text/plain": [
              "(15548, 4)"
            ]
          },
          "execution_count": 221,
          "metadata": {},
          "output_type": "execute_result"
        }
      ],
      "source": [
        "df.shape"
      ]
    },
    {
      "cell_type": "code",
      "execution_count": null,
      "id": "9355c902",
      "metadata": {
        "id": "9355c902",
        "outputId": "8240d667-4997-498b-adba-843d0c9a5109"
      },
      "outputs": [
        {
          "data": {
            "text/html": [
              "<div>\n",
              "<style scoped>\n",
              "    .dataframe tbody tr th:only-of-type {\n",
              "        vertical-align: middle;\n",
              "    }\n",
              "\n",
              "    .dataframe tbody tr th {\n",
              "        vertical-align: top;\n",
              "    }\n",
              "\n",
              "    .dataframe thead th {\n",
              "        text-align: right;\n",
              "    }\n",
              "</style>\n",
              "<table border=\"1\" class=\"dataframe\">\n",
              "  <thead>\n",
              "    <tr style=\"text-align: right;\">\n",
              "      <th></th>\n",
              "      <th>Product</th>\n",
              "      <th>rate</th>\n",
              "      <th>title</th>\n",
              "      <th>review_body</th>\n",
              "    </tr>\n",
              "  </thead>\n",
              "  <tbody>\n",
              "    <tr>\n",
              "      <th>0</th>\n",
              "      <td>A Grande Odalisca (volume Exclusivo Amazon)</td>\n",
              "      <td>3</td>\n",
              "      <td>Sessão da tarde 16+</td>\n",
              "      <td>Parabenizo o trio de editores pela tentativa d...</td>\n",
              "    </tr>\n",
              "    <tr>\n",
              "      <th>1</th>\n",
              "      <td>A Grande Odalisca (volume Exclusivo Amazon)</td>\n",
              "      <td>3</td>\n",
              "      <td>Mais ou menos</td>\n",
              "      <td>Boa história, linda arte. Mas muito curta e mu...</td>\n",
              "    </tr>\n",
              "    <tr>\n",
              "      <th>2</th>\n",
              "      <td>A Grande Odalisca (volume Exclusivo Amazon)</td>\n",
              "      <td>5</td>\n",
              "      <td>Uma preciosidade no catálogo do PN</td>\n",
              "      <td>Quadrinhos franco-belgas são sempre considerad...</td>\n",
              "    </tr>\n",
              "    <tr>\n",
              "      <th>3</th>\n",
              "      <td>A Grande Odalisca (volume Exclusivo Amazon)</td>\n",
              "      <td>5</td>\n",
              "      <td>Uns 90 minutos muito bem aproveitados.</td>\n",
              "      <td>Uma leitura rápida, interessante e bastante di...</td>\n",
              "    </tr>\n",
              "    <tr>\n",
              "      <th>4</th>\n",
              "      <td>A Grande Odalisca (volume Exclusivo Amazon)</td>\n",
              "      <td>5</td>\n",
              "      <td>Ótimo quadrinho francês</td>\n",
              "      <td>O lançamento do PN de outubro é esse quadrinho...</td>\n",
              "    </tr>\n",
              "  </tbody>\n",
              "</table>\n",
              "</div>"
            ],
            "text/plain": [
              "                                       Product  rate  \\\n",
              "0  A Grande Odalisca (volume Exclusivo Amazon)     3   \n",
              "1  A Grande Odalisca (volume Exclusivo Amazon)     3   \n",
              "2  A Grande Odalisca (volume Exclusivo Amazon)     5   \n",
              "3  A Grande Odalisca (volume Exclusivo Amazon)     5   \n",
              "4  A Grande Odalisca (volume Exclusivo Amazon)     5   \n",
              "\n",
              "                                    title  \\\n",
              "0                     Sessão da tarde 16+   \n",
              "1                           Mais ou menos   \n",
              "2      Uma preciosidade no catálogo do PN   \n",
              "3  Uns 90 minutos muito bem aproveitados.   \n",
              "4                 Ótimo quadrinho francês   \n",
              "\n",
              "                                         review_body  \n",
              "0  Parabenizo o trio de editores pela tentativa d...  \n",
              "1  Boa história, linda arte. Mas muito curta e mu...  \n",
              "2  Quadrinhos franco-belgas são sempre considerad...  \n",
              "3  Uma leitura rápida, interessante e bastante di...  \n",
              "4  O lançamento do PN de outubro é esse quadrinho...  "
            ]
          },
          "execution_count": 222,
          "metadata": {},
          "output_type": "execute_result"
        }
      ],
      "source": [
        "df.head()"
      ]
    },
    {
      "cell_type": "code",
      "execution_count": null,
      "id": "cdf17f4c",
      "metadata": {
        "id": "cdf17f4c",
        "outputId": "6acebb8e-fb2b-4abb-80a1-bca013ac7811"
      },
      "outputs": [
        {
          "data": {
            "text/html": [
              "<div>\n",
              "<style scoped>\n",
              "    .dataframe tbody tr th:only-of-type {\n",
              "        vertical-align: middle;\n",
              "    }\n",
              "\n",
              "    .dataframe tbody tr th {\n",
              "        vertical-align: top;\n",
              "    }\n",
              "\n",
              "    .dataframe thead th {\n",
              "        text-align: right;\n",
              "    }\n",
              "</style>\n",
              "<table border=\"1\" class=\"dataframe\">\n",
              "  <thead>\n",
              "    <tr style=\"text-align: right;\">\n",
              "      <th></th>\n",
              "      <th>Product</th>\n",
              "      <th>rate</th>\n",
              "      <th>title</th>\n",
              "      <th>review_body</th>\n",
              "    </tr>\n",
              "  </thead>\n",
              "  <tbody>\n",
              "    <tr>\n",
              "      <th>11721</th>\n",
              "      <td>Shirô: Yakuza, honra e sangue no coração de Sã...</td>\n",
              "      <td>5</td>\n",
              "      <td>Agradecimentos</td>\n",
              "      <td>Não tenho nada a reclamar...aliás recomendo  A...</td>\n",
              "    </tr>\n",
              "    <tr>\n",
              "      <th>1313</th>\n",
              "      <td>Mangá-Documentário: Virgem Depois dos 30 (excl...</td>\n",
              "      <td>5</td>\n",
              "      <td>Parabens!!!</td>\n",
              "      <td>Esse mangá deveria já ter sido lançado no Bras...</td>\n",
              "    </tr>\n",
              "    <tr>\n",
              "      <th>12147</th>\n",
              "      <td>A garota do lago</td>\n",
              "      <td>2</td>\n",
              "      <td>Investigação é inexistente! (Sem Spoiler)</td>\n",
              "      <td>Tudo no livro desenrola de forma muito, mais m...</td>\n",
              "    </tr>\n",
              "    <tr>\n",
              "      <th>4232</th>\n",
              "      <td>Um Pequeno Assassinato - Volume Único Exclusiv...</td>\n",
              "      <td>3</td>\n",
              "      <td>bom</td>\n",
              "      <td>acho que a ideia dele é mais interessante do q...</td>\n",
              "    </tr>\n",
              "    <tr>\n",
              "      <th>868</th>\n",
              "      <td>Beasts of Burden. Rituais Animais - Volume 1 E...</td>\n",
              "      <td>5</td>\n",
              "      <td>A melhor HQ sobrenatural do ano.</td>\n",
              "      <td>Beasts of Burden é um ótimo quadrinho, tem um ...</td>\n",
              "    </tr>\n",
              "    <tr>\n",
              "      <th>1573</th>\n",
              "      <td>O Último Voo das Borboletas</td>\n",
              "      <td>5</td>\n",
              "      <td>Um dos melhores mangás que já li!</td>\n",
              "      <td>Ao adquirir não esperava muito desse mangá alé...</td>\n",
              "    </tr>\n",
              "    <tr>\n",
              "      <th>4680</th>\n",
              "      <td>O Máskara - Volume Único</td>\n",
              "      <td>5</td>\n",
              "      <td>Nostalgia e diversão</td>\n",
              "      <td>Fiquei sabendo que o Máskara era um quadrinho ...</td>\n",
              "    </tr>\n",
              "    <tr>\n",
              "      <th>11019</th>\n",
              "      <td>O Preço da Desonra. Kubidai Hikiukenin (Exclus...</td>\n",
              "      <td>5</td>\n",
              "      <td>Uma folheada arte e acabamento saltam da folha</td>\n",
              "      <td>Uma obra sendo bem respeitada ao ser lançada e...</td>\n",
              "    </tr>\n",
              "    <tr>\n",
              "      <th>9840</th>\n",
              "      <td>Um Pedaço de Madeira e Aço</td>\n",
              "      <td>1</td>\n",
              "      <td>não compensa</td>\n",
              "      <td>sem nenhuma graça</td>\n",
              "    </tr>\n",
              "    <tr>\n",
              "      <th>10891</th>\n",
              "      <td>O Preço da Desonra. Kubidai Hikiukenin (Exclus...</td>\n",
              "      <td>5</td>\n",
              "      <td>Gekigá de valor</td>\n",
              "      <td>Ao melhor estilo lobo solitárioz esse quadrinh...</td>\n",
              "    </tr>\n",
              "  </tbody>\n",
              "</table>\n",
              "</div>"
            ],
            "text/plain": [
              "                                                 Product  rate  \\\n",
              "11721  Shirô: Yakuza, honra e sangue no coração de Sã...     5   \n",
              "1313   Mangá-Documentário: Virgem Depois dos 30 (excl...     5   \n",
              "12147                                   A garota do lago     2   \n",
              "4232   Um Pequeno Assassinato - Volume Único Exclusiv...     3   \n",
              "868    Beasts of Burden. Rituais Animais - Volume 1 E...     5   \n",
              "1573                         O Último Voo das Borboletas     5   \n",
              "4680                            O Máskara - Volume Único     5   \n",
              "11019  O Preço da Desonra. Kubidai Hikiukenin (Exclus...     5   \n",
              "9840                          Um Pedaço de Madeira e Aço     1   \n",
              "10891  O Preço da Desonra. Kubidai Hikiukenin (Exclus...     5   \n",
              "\n",
              "                                                title  \\\n",
              "11721                                  Agradecimentos   \n",
              "1313                                      Parabens!!!   \n",
              "12147       Investigação é inexistente! (Sem Spoiler)   \n",
              "4232                                              bom   \n",
              "868                  A melhor HQ sobrenatural do ano.   \n",
              "1573                Um dos melhores mangás que já li!   \n",
              "4680                             Nostalgia e diversão   \n",
              "11019  Uma folheada arte e acabamento saltam da folha   \n",
              "9840                                     não compensa   \n",
              "10891                                 Gekigá de valor   \n",
              "\n",
              "                                             review_body  \n",
              "11721  Não tenho nada a reclamar...aliás recomendo  A...  \n",
              "1313   Esse mangá deveria já ter sido lançado no Bras...  \n",
              "12147  Tudo no livro desenrola de forma muito, mais m...  \n",
              "4232   acho que a ideia dele é mais interessante do q...  \n",
              "868    Beasts of Burden é um ótimo quadrinho, tem um ...  \n",
              "1573   Ao adquirir não esperava muito desse mangá alé...  \n",
              "4680   Fiquei sabendo que o Máskara era um quadrinho ...  \n",
              "11019  Uma obra sendo bem respeitada ao ser lançada e...  \n",
              "9840                                   sem nenhuma graça  \n",
              "10891  Ao melhor estilo lobo solitárioz esse quadrinh...  "
            ]
          },
          "execution_count": 223,
          "metadata": {},
          "output_type": "execute_result"
        }
      ],
      "source": [
        "df.sample(10)"
      ]
    },
    {
      "cell_type": "code",
      "execution_count": null,
      "id": "ea77bcc0",
      "metadata": {
        "id": "ea77bcc0",
        "outputId": "e2ac23e3-5408-4265-b773-0b8e02199582"
      },
      "outputs": [
        {
          "data": {
            "text/plain": [
              "'O DF tem 15548 linhas e 4 colunas'"
            ]
          },
          "execution_count": 224,
          "metadata": {},
          "output_type": "execute_result"
        }
      ],
      "source": [
        "f\"O DF tem {df.shape[0]} linhas e {df.shape[1]} colunas\"\n"
      ]
    },
    {
      "cell_type": "code",
      "execution_count": null,
      "id": "9e0bf14c",
      "metadata": {
        "id": "9e0bf14c"
      },
      "outputs": [],
      "source": [
        "df.to_csv(\"Amazon_Reviews.csv\", index = False)\n",
        "df.to_excel(\"Amazon_Reviews.xlsx\", index = False)"
      ]
    },
    {
      "cell_type": "code",
      "execution_count": null,
      "id": "03e8b85e",
      "metadata": {
        "id": "03e8b85e",
        "outputId": "c257cc92-b7d3-4d59-91be-a98205c1a499"
      },
      "outputs": [
        {
          "data": {
            "text/html": [
              "<div>\n",
              "<style scoped>\n",
              "    .dataframe tbody tr th:only-of-type {\n",
              "        vertical-align: middle;\n",
              "    }\n",
              "\n",
              "    .dataframe tbody tr th {\n",
              "        vertical-align: top;\n",
              "    }\n",
              "\n",
              "    .dataframe thead th {\n",
              "        text-align: right;\n",
              "    }\n",
              "</style>\n",
              "<table border=\"1\" class=\"dataframe\">\n",
              "  <thead>\n",
              "    <tr style=\"text-align: right;\">\n",
              "      <th></th>\n",
              "      <th>Product</th>\n",
              "      <th>rate</th>\n",
              "      <th>title</th>\n",
              "      <th>review_body</th>\n",
              "    </tr>\n",
              "  </thead>\n",
              "  <tbody>\n",
              "    <tr>\n",
              "      <th>7982</th>\n",
              "      <td>Incal (Volume 1 da Série Todo Incal)</td>\n",
              "      <td>5.0</td>\n",
              "      <td>Mais um petardo do pipoca e nanquim</td>\n",
              "      <td>Sensação visualmente insano</td>\n",
              "    </tr>\n",
              "  </tbody>\n",
              "</table>\n",
              "</div>"
            ],
            "text/plain": [
              "                                   Product  rate  \\\n",
              "7982  Incal (Volume 1 da Série Todo Incal)   5.0   \n",
              "\n",
              "                                    title                  review_body  \n",
              "7982  Mais um petardo do pipoca e nanquim  Sensação visualmente insano  "
            ]
          },
          "execution_count": 28,
          "metadata": {},
          "output_type": "execute_result"
        }
      ],
      "source": [
        "df.loc[df['review_body'] == \"Sensação visualmente insano\"]"
      ]
    },
    {
      "cell_type": "code",
      "execution_count": null,
      "id": "9a5258ea",
      "metadata": {
        "id": "9a5258ea"
      },
      "outputs": [],
      "source": [
        "df[\"review_body\"] = df[\"review_body\"].values.astype(str)"
      ]
    },
    {
      "cell_type": "code",
      "execution_count": null,
      "id": "80e6a36d",
      "metadata": {
        "id": "80e6a36d",
        "outputId": "7c37bbf3-add8-4695-8c46-6250ae7bf17b"
      },
      "outputs": [
        {
          "name": "stdout",
          "output_type": "stream",
          "text": [
            "<class 'pandas.core.frame.DataFrame'>\n",
            "RangeIndex: 11108 entries, 0 to 11107\n",
            "Data columns (total 4 columns):\n",
            " #   Column       Non-Null Count  Dtype  \n",
            "---  ------       --------------  -----  \n",
            " 0   Product      11108 non-null  object \n",
            " 1   rate         11108 non-null  float64\n",
            " 2   title        11108 non-null  object \n",
            " 3   review_body  11108 non-null  object \n",
            "dtypes: float64(1), object(3)\n",
            "memory usage: 347.2+ KB\n"
          ]
        }
      ],
      "source": [
        "df.info()"
      ]
    },
    {
      "cell_type": "code",
      "execution_count": null,
      "id": "5a5bf416",
      "metadata": {
        "id": "5a5bf416"
      },
      "outputs": [],
      "source": [
        "df[\"rate\"] = df[\"rate\"].astype(float)\n",
        "df[\"review_body\"] = df[\"review_body\"].astype(str)\n",
        "df[\"Product\"] = df[\"Product\"].astype(str)\n",
        "df[\"title\"] = df[\"title\"].astype(str)"
      ]
    },
    {
      "cell_type": "markdown",
      "id": "2aa14ee6",
      "metadata": {
        "id": "2aa14ee6"
      },
      "source": [
        "# Parte 3 : Modelo de Machine Learning Análise de sentimentos"
      ]
    },
    {
      "cell_type": "markdown",
      "id": "82e8793b",
      "metadata": {
        "id": "82e8793b"
      },
      "source": [
        "## 3.1 - Preparação dos dados\n"
      ]
    },
    {
      "cell_type": "code",
      "execution_count": null,
      "id": "c3822b66",
      "metadata": {
        "id": "c3822b66"
      },
      "outputs": [],
      "source": [
        "class Sentiment:\n",
        "    NEGATIVO = \"NEGATIVO\"\n",
        "    POSITIVO = \"POSITIVO\"\n",
        "\n",
        "class Review:\n",
        "    def __init__(self, text, rate):\n",
        "        self.text = text\n",
        "        self.rate = rate\n",
        "        self.sentiment = self.get_sentiment()\n",
        "        \n",
        "    def get_sentiment(self):\n",
        "        if self.rate <= 3:\n",
        "            return Sentiment.NEGATIVO\n",
        "        else:# 4 or 5 rate\n",
        "            return Sentiment.POSITIVO"
      ]
    },
    {
      "cell_type": "code",
      "execution_count": null,
      "id": "912df8be",
      "metadata": {
        "id": "912df8be"
      },
      "outputs": [],
      "source": [
        "reviews = []\n",
        "n = 0\n",
        "for line in df.iterrows():\n",
        "    reviews.append(Review(df[\"review_body\"][n],df[\"rate\"][n]))\n",
        "    n = n+1\n"
      ]
    },
    {
      "cell_type": "code",
      "execution_count": null,
      "id": "527f30aa",
      "metadata": {
        "id": "527f30aa"
      },
      "outputs": [],
      "source": [
        ""
      ]
    },
    {
      "cell_type": "code",
      "execution_count": null,
      "id": "6b6860a7",
      "metadata": {
        "id": "6b6860a7",
        "outputId": "6f4d8d50-0bdd-4e30-ad09-ba1497e2ed1a"
      },
      "outputs": [
        {
          "data": {
            "text/plain": [
              "3.0"
            ]
          },
          "execution_count": 131,
          "metadata": {},
          "output_type": "execute_result"
        }
      ],
      "source": [
        "reviews[9120].rate"
      ]
    },
    {
      "cell_type": "code",
      "execution_count": null,
      "id": "241526be",
      "metadata": {
        "id": "241526be",
        "outputId": "5fce57e4-d079-43c9-f5f2-d54a0a09f1ff"
      },
      "outputs": [
        {
          "data": {
            "text/plain": [
              "5.0    12064\n",
              "4.0     1682\n",
              "3.0      968\n",
              "2.0      428\n",
              "1.0      406\n",
              "Name: rate, dtype: int64"
            ]
          },
          "execution_count": 132,
          "metadata": {},
          "output_type": "execute_result"
        }
      ],
      "source": [
        "df[\"rate\"].value_counts()"
      ]
    },
    {
      "cell_type": "markdown",
      "id": "000300e5",
      "metadata": {
        "id": "000300e5"
      },
      "source": [
        "## 3.2 - Criando DF teste e DF treino"
      ]
    },
    {
      "cell_type": "code",
      "execution_count": null,
      "id": "a72540f9",
      "metadata": {
        "id": "a72540f9"
      },
      "outputs": [],
      "source": [
        "from sklearn.model_selection import train_test_split as tts"
      ]
    },
    {
      "cell_type": "code",
      "execution_count": null,
      "id": "9b1cb2fb",
      "metadata": {
        "id": "9b1cb2fb"
      },
      "outputs": [],
      "source": [
        "training,test = tts(reviews,test_size = 0.33, random_state = 777)"
      ]
    },
    {
      "cell_type": "code",
      "execution_count": null,
      "id": "7d3455f4",
      "metadata": {
        "id": "7d3455f4",
        "outputId": "565fc8f9-096b-4cb2-a052-49eefdb98b27"
      },
      "outputs": [
        {
          "data": {
            "text/plain": [
              "'O comentário \".Tudo nessa obra é bonito. Com uma qualidade gráfica e de acabamento incrível para os patrões brasileiros essa obra do Jiro Taniguchi é mas que uma declaração de amor ao museu do Louvre, nessa obra o autor faz uma declaração de amor a historia da arte. Guardiões do Louvre é uma obra que deve ser exaltada pela sua originalidade e beleza.\" é POSITIVO'"
            ]
          },
          "execution_count": 135,
          "metadata": {},
          "output_type": "execute_result"
        }
      ],
      "source": [
        "train_x = [x.text for x in training]\n",
        "train_y = [y.sentiment for y in training]\n",
        "\n",
        "test_x = [x.text for x in test]\n",
        "test_y = [y.sentiment for y in test]\n",
        "\n",
        "a = 50\n",
        "f'O comentário \"{train_x[a]}\" é {train_y[a]}'"
      ]
    },
    {
      "cell_type": "markdown",
      "id": "745ce51d",
      "metadata": {
        "id": "745ce51d"
      },
      "source": [
        "## 3.3 - Vetorização de palavras (Bag of Words)"
      ]
    },
    {
      "cell_type": "code",
      "execution_count": null,
      "id": "539484d6",
      "metadata": {
        "id": "539484d6"
      },
      "outputs": [],
      "source": [
        "from sklearn.feature_extraction.text import CountVectorizer as cv\n",
        "from sklearn.feature_extraction.text import TfidfVectorizer as tfid"
      ]
    },
    {
      "cell_type": "code",
      "execution_count": null,
      "id": "2145d54b",
      "metadata": {
        "id": "2145d54b"
      },
      "outputs": [],
      "source": [
        "vectorizer = cv()\n",
        "train_x_vector = vectorizer.fit_transform(train_x)\n",
        "test_x_vector = vectorizer.transform(test_x)\n"
      ]
    },
    {
      "cell_type": "markdown",
      "id": "867009f1",
      "metadata": {
        "id": "867009f1"
      },
      "source": [
        "## 3.4 - 1º Classificação"
      ]
    },
    {
      "cell_type": "markdown",
      "id": "ebbe04fc",
      "metadata": {
        "id": "ebbe04fc"
      },
      "source": [
        "### 3.4.1 - Linear SVM"
      ]
    },
    {
      "cell_type": "code",
      "execution_count": null,
      "id": "1f6d28db",
      "metadata": {
        "id": "1f6d28db"
      },
      "outputs": [],
      "source": [
        "from sklearn import svm"
      ]
    },
    {
      "cell_type": "code",
      "execution_count": null,
      "id": "0c84b02d",
      "metadata": {
        "id": "0c84b02d",
        "outputId": "37d37c07-ab9d-4806-a78e-fba5254e58e0"
      },
      "outputs": [
        {
          "data": {
            "text/plain": [
              "SVC(kernel='linear')"
            ]
          },
          "execution_count": 139,
          "metadata": {},
          "output_type": "execute_result"
        }
      ],
      "source": [
        "classif_svm = svm.SVC(kernel = \"linear\")\n",
        "\n",
        "classif_svm.fit(train_x_vector,train_y)"
      ]
    },
    {
      "cell_type": "code",
      "execution_count": null,
      "id": "397fe70b",
      "metadata": {
        "id": "397fe70b",
        "outputId": "4104e22f-11ff-40f5-d7c0-8cb91082976e"
      },
      "outputs": [
        {
          "name": "stdout",
          "output_type": "stream",
          "text": [
            "O livro chegou antes do prazo como sempre uma entrega agilizada por parte da Amazon porem livro chegou danificado creio que a entregadora não tenha culpa pois nao havia nenhum dano na embalagem externa, ao abrir o plástico do livro vi a danificação nas páginas, poxa o livro em si é uma grande aquisição por conta da sua estética se comparando até a livros da Darkside, tal defeito deestetico realmente deixa a pessoa decepcionada.\n",
            "  (0, 3331)\t1\n",
            "  (0, 3706)\t1\n",
            "  (0, 3993)\t1\n",
            "  (0, 4345)\t1\n",
            "  (0, 4431)\t2\n",
            "  (0, 6508)\t1\n",
            "  (0, 7651)\t1\n",
            "  (0, 7727)\t1\n",
            "  (0, 10005)\t1\n",
            "  (0, 11472)\t1\n",
            "  (0, 11482)\t2\n",
            "  (0, 12243)\t1\n",
            "  (0, 12963)\t1\n",
            "  (0, 13426)\t1\n",
            "  (0, 13492)\t2\n",
            "  (0, 14101)\t2\n",
            "  (0, 14816)\t1\n",
            "  (0, 15152)\t1\n",
            "  (0, 15357)\t1\n",
            "  (0, 17209)\t1\n",
            "  (0, 17383)\t1\n",
            "  (0, 17823)\t1\n",
            "  (0, 17844)\t1\n",
            "  (0, 18000)\t1\n",
            "  (0, 18615)\t1\n",
            "  (0, 19381)\t1\n",
            "  (0, 19586)\t1\n",
            "  (0, 19698)\t1\n",
            "  (0, 19720)\t1\n",
            "  (0, 20106)\t1\n",
            "  (0, 20257)\t1\n",
            "  (0, 20590)\t1\n",
            "  (0, 20676)\t1\n",
            "  (0, 20759)\t1\n",
            "  (0, 20872)\t1\n",
            "  (0, 21600)\t1\n",
            "  (0, 21667)\t1\n",
            "  (0, 21753)\t1\n",
            "  (0, 22408)\t1\n"
          ]
        }
      ],
      "source": [
        "print(test_x[15])\n",
        "print(test_x_vector[11])"
      ]
    },
    {
      "cell_type": "code",
      "execution_count": null,
      "id": "ad7fdcce",
      "metadata": {
        "id": "ad7fdcce",
        "outputId": "b9698c6b-570c-4254-84b9-0f4719939489"
      },
      "outputs": [
        {
          "data": {
            "text/plain": [
              "array(['NEGATIVO'], dtype='<U8')"
            ]
          },
          "execution_count": 141,
          "metadata": {},
          "output_type": "execute_result"
        }
      ],
      "source": [
        "classif_svm.predict(test_x_vector[15])"
      ]
    },
    {
      "cell_type": "markdown",
      "id": "c4930cef",
      "metadata": {
        "id": "c4930cef"
      },
      "source": [
        "### 3.4.2 - Decision Tree"
      ]
    },
    {
      "cell_type": "code",
      "execution_count": null,
      "id": "0a0f44cd",
      "metadata": {
        "id": "0a0f44cd"
      },
      "outputs": [],
      "source": [
        "from sklearn.tree import DecisionTreeClassifier as dtc"
      ]
    },
    {
      "cell_type": "code",
      "execution_count": null,
      "id": "dfde8da7",
      "metadata": {
        "id": "dfde8da7",
        "outputId": "100ee333-e70b-4a0c-e434-aa897f9b36f8"
      },
      "outputs": [
        {
          "data": {
            "text/plain": [
              "DecisionTreeClassifier()"
            ]
          },
          "execution_count": 143,
          "metadata": {},
          "output_type": "execute_result"
        }
      ],
      "source": [
        "classif_dect = dtc()\n",
        "classif_dect.fit(train_x_vector, train_y)"
      ]
    },
    {
      "cell_type": "code",
      "execution_count": null,
      "id": "ff34cb86",
      "metadata": {
        "id": "ff34cb86",
        "outputId": "9835fd4a-e44c-4e4f-ae39-e9334f4691b7"
      },
      "outputs": [
        {
          "data": {
            "text/plain": [
              "array(['NEGATIVO'], dtype='<U8')"
            ]
          },
          "execution_count": 144,
          "metadata": {},
          "output_type": "execute_result"
        }
      ],
      "source": [
        "classif_dect.predict(test_x_vector[15])"
      ]
    },
    {
      "cell_type": "markdown",
      "id": "c131d2ea",
      "metadata": {
        "id": "c131d2ea"
      },
      "source": [
        "### 3.4.3 - Linear Regression"
      ]
    },
    {
      "cell_type": "code",
      "execution_count": null,
      "id": "a9978c14",
      "metadata": {
        "id": "a9978c14"
      },
      "outputs": [],
      "source": [
        "from sklearn.linear_model import LogisticRegression as lr"
      ]
    },
    {
      "cell_type": "code",
      "execution_count": null,
      "id": "f7e661ce",
      "metadata": {
        "id": "f7e661ce",
        "outputId": "75d2d3d5-0069-4c13-fdd4-c6c9a7bf220e"
      },
      "outputs": [
        {
          "name": "stderr",
          "output_type": "stream",
          "text": [
            "C:\\Users\\PROGRAMAÇÃO\\AppData\\Roaming\\Python\\Python38\\site-packages\\sklearn\\linear_model\\_logistic.py:763: ConvergenceWarning: lbfgs failed to converge (status=1):\n",
            "STOP: TOTAL NO. of ITERATIONS REACHED LIMIT.\n",
            "\n",
            "Increase the number of iterations (max_iter) or scale the data as shown in:\n",
            "    https://scikit-learn.org/stable/modules/preprocessing.html\n",
            "Please also refer to the documentation for alternative solver options:\n",
            "    https://scikit-learn.org/stable/modules/linear_model.html#logistic-regression\n",
            "  n_iter_i = _check_optimize_result(\n"
          ]
        },
        {
          "data": {
            "text/plain": [
              "LogisticRegression()"
            ]
          },
          "execution_count": 146,
          "metadata": {},
          "output_type": "execute_result"
        }
      ],
      "source": [
        "classif_lr = lr()\n",
        "classif_lr.fit(train_x_vector, train_y)"
      ]
    },
    {
      "cell_type": "code",
      "execution_count": null,
      "id": "237dfd48",
      "metadata": {
        "id": "237dfd48",
        "outputId": "41526f15-3183-48d1-812e-3816af363218"
      },
      "outputs": [
        {
          "data": {
            "text/plain": [
              "array(['NEGATIVO'], dtype='<U8')"
            ]
          },
          "execution_count": 147,
          "metadata": {},
          "output_type": "execute_result"
        }
      ],
      "source": [
        "classif_lr.predict(test_x_vector[15])"
      ]
    },
    {
      "cell_type": "markdown",
      "id": "d9cacd51",
      "metadata": {
        "id": "d9cacd51"
      },
      "source": [
        "## 3.5 - 1º Validação"
      ]
    },
    {
      "cell_type": "code",
      "execution_count": null,
      "id": "7842ab81",
      "metadata": {
        "id": "7842ab81"
      },
      "outputs": [],
      "source": [
        "from sklearn.metrics import f1_score"
      ]
    },
    {
      "cell_type": "markdown",
      "id": "66ef6b48",
      "metadata": {
        "id": "66ef6b48"
      },
      "source": [
        "### 3.5.1 - Linear SVM"
      ]
    },
    {
      "cell_type": "code",
      "execution_count": null,
      "id": "14f1ffd9",
      "metadata": {
        "id": "14f1ffd9",
        "outputId": "db24cffe-b790-4809-a44f-aeba11f38c0d"
      },
      "outputs": [
        {
          "data": {
            "text/plain": [
              "0.912102903917365"
            ]
          },
          "execution_count": 149,
          "metadata": {},
          "output_type": "execute_result"
        }
      ],
      "source": [
        "#Score (Mean Accuracy)\n",
        "classif_svm.score(test_x_vector, test_y)"
      ]
    },
    {
      "cell_type": "code",
      "execution_count": null,
      "id": "da25cc1e",
      "metadata": {
        "id": "da25cc1e",
        "outputId": "9700ff52-5905-42be-dddb-5e96b8272171"
      },
      "outputs": [
        {
          "data": {
            "text/plain": [
              "array([0.95098359, 0.57492931])"
            ]
          },
          "execution_count": 151,
          "metadata": {},
          "output_type": "execute_result"
        }
      ],
      "source": [
        "#F1 Score\n",
        "f1_score(test_y, classif_svm.predict(test_x_vector), average = None, labels = [Sentiment.POSITIVO,Sentiment.NEGATIVO])"
      ]
    },
    {
      "cell_type": "markdown",
      "id": "d2b16d38",
      "metadata": {
        "id": "d2b16d38"
      },
      "source": [
        "### 3.5.2 - Decision Tree"
      ]
    },
    {
      "cell_type": "code",
      "execution_count": null,
      "id": "17d1f39a",
      "metadata": {
        "id": "17d1f39a",
        "outputId": "a7cbade4-f61b-4074-dd0d-7a346ba49ba9"
      },
      "outputs": [
        {
          "data": {
            "text/plain": [
              "0.8778015981290197"
            ]
          },
          "execution_count": 152,
          "metadata": {},
          "output_type": "execute_result"
        }
      ],
      "source": [
        "#Score (Mean Accuracy)\n",
        "classif_dect.score(test_x_vector, test_y)"
      ]
    },
    {
      "cell_type": "code",
      "execution_count": null,
      "id": "66a8fc1d",
      "metadata": {
        "id": "66a8fc1d",
        "outputId": "939bf210-9eb9-4f34-e4c2-3745748444e4"
      },
      "outputs": [
        {
          "data": {
            "text/plain": [
              "array([0.93166213, 0.42318307])"
            ]
          },
          "execution_count": 153,
          "metadata": {},
          "output_type": "execute_result"
        }
      ],
      "source": [
        "#F1 Score\n",
        "f1_score(test_y, classif_dect.predict(test_x_vector), average = None, labels = [Sentiment.POSITIVO,Sentiment.NEGATIVO])"
      ]
    },
    {
      "cell_type": "markdown",
      "id": "2455058c",
      "metadata": {
        "id": "2455058c"
      },
      "source": [
        "### 3.5.3 - Linear Regression"
      ]
    },
    {
      "cell_type": "code",
      "execution_count": null,
      "id": "1f874121",
      "metadata": {
        "id": "1f874121",
        "outputId": "ff0cd99e-bf47-4d0c-f638-14ec6e64a779"
      },
      "outputs": [
        {
          "data": {
            "text/plain": [
              "0.9206782303644514"
            ]
          },
          "execution_count": 154,
          "metadata": {},
          "output_type": "execute_result"
        }
      ],
      "source": [
        "#Score (Mean Accuracy)\n",
        "classif_lr.score(test_x_vector, test_y)"
      ]
    },
    {
      "cell_type": "code",
      "execution_count": null,
      "id": "cfc31a79",
      "metadata": {
        "id": "cfc31a79",
        "outputId": "d6c18a38-4ebc-489e-b0f2-93ad846dbb97"
      },
      "outputs": [
        {
          "data": {
            "text/plain": [
              "array([0.95614697, 0.58511723])"
            ]
          },
          "execution_count": 156,
          "metadata": {},
          "output_type": "execute_result"
        }
      ],
      "source": [
        "#F1 Score\n",
        "f1_score(test_y, classif_lr.predict(test_x_vector), average = None, labels = [Sentiment.POSITIVO,Sentiment.NEGATIVO])"
      ]
    },
    {
      "cell_type": "markdown",
      "id": "c695a0d3",
      "metadata": {
        "id": "c695a0d3"
      },
      "source": [
        "## 3.6 - Reorganização dos dados"
      ]
    },
    {
      "cell_type": "code",
      "execution_count": null,
      "id": "61b12166",
      "metadata": {
        "id": "61b12166"
      },
      "outputs": [],
      "source": [
        "import random"
      ]
    },
    {
      "cell_type": "code",
      "execution_count": null,
      "id": "26e29ac2",
      "metadata": {
        "id": "26e29ac2",
        "outputId": "be210c67-cf70-4635-8893-3d91c3bb7afb"
      },
      "outputs": [
        {
          "name": "stdout",
          "output_type": "stream",
          "text": [
            " DF de treino 9185 sentimentos positivos e 1232 negativos\n"
          ]
        }
      ],
      "source": [
        "print(f' DF de treino {train_y.count(Sentiment.POSITIVO)} sentimentos positivos e {train_y.count(Sentiment.NEGATIVO)} negativos')"
      ]
    },
    {
      "cell_type": "code",
      "execution_count": null,
      "id": "35452b3f",
      "metadata": {
        "id": "35452b3f"
      },
      "outputs": [],
      "source": [
        "negativos = list(filter(lambda x: x.sentiment == Sentiment.NEGATIVO, reviews))\n",
        "positivos = list(filter(lambda x: x.sentiment == Sentiment.POSITIVO, reviews))"
      ]
    },
    {
      "cell_type": "code",
      "execution_count": null,
      "id": "7c4f4832",
      "metadata": {
        "id": "7c4f4832",
        "outputId": "0474491e-a9b6-4999-8b0b-ffd1193ebd77"
      },
      "outputs": [
        {
          "name": "stdout",
          "output_type": "stream",
          "text": [
            "1802\n",
            "13746\n"
          ]
        }
      ],
      "source": [
        "print(len(negativos))\n",
        "print(len(positivos))"
      ]
    },
    {
      "cell_type": "code",
      "execution_count": null,
      "id": "51652abd",
      "metadata": {
        "id": "51652abd"
      },
      "outputs": [],
      "source": [
        "positivos_reduc = positivos[:len(negativos)]"
      ]
    },
    {
      "cell_type": "code",
      "execution_count": null,
      "id": "a5dcdbe4",
      "metadata": {
        "id": "a5dcdbe4"
      },
      "outputs": [],
      "source": [
        "reviews_distribuidos_igualmente = negativos + positivos_reduc"
      ]
    },
    {
      "cell_type": "code",
      "execution_count": null,
      "id": "ad424611",
      "metadata": {
        "id": "ad424611"
      },
      "outputs": [],
      "source": [
        "random.shuffle(reviews_distribuidos_igualmente)"
      ]
    },
    {
      "cell_type": "code",
      "execution_count": null,
      "id": "cf73cd5a",
      "metadata": {
        "id": "cf73cd5a",
        "outputId": "92ca9987-12b8-4742-b5fd-8f95c186f439"
      },
      "outputs": [
        {
          "data": {
            "text/plain": [
              "3604"
            ]
          },
          "execution_count": 166,
          "metadata": {},
          "output_type": "execute_result"
        }
      ],
      "source": [
        "len(reviews_distribuidos_igualmente)"
      ]
    },
    {
      "cell_type": "markdown",
      "id": "1451937f",
      "metadata": {
        "id": "1451937f"
      },
      "source": [
        "## 3.7 - DF teste e DF treino"
      ]
    },
    {
      "cell_type": "code",
      "execution_count": null,
      "id": "7520c248",
      "metadata": {
        "id": "7520c248"
      },
      "outputs": [],
      "source": [
        "training_2,test_2 = tts(reviews_distribuidos_igualmente,test_size = 0.25, random_state = 777)"
      ]
    },
    {
      "cell_type": "code",
      "execution_count": null,
      "id": "8c06b0b0",
      "metadata": {
        "id": "8c06b0b0",
        "outputId": "23745920-5563-4365-a2ee-883bf175849f"
      },
      "outputs": [
        {
          "name": "stdout",
          "output_type": "stream",
          "text": [
            "O comentário \"Eu li mas esperei muito mais. A arte é algo absurdamente estranho..quase um abstrato com modernismo e sei la mais oque..enfim.. tem altos e baixos. Mas ñ foi uma hq boa nem em 1000 anos. Talvez um livro ficaria melhor.\" é NEGATIVO\n",
            "\n",
            "Tamanho de x treino 2: 2703\n",
            "\n",
            "Tamanho de x teste 2: 901\n"
          ]
        }
      ],
      "source": [
        "train_x_2= [x.text for x in training_2]\n",
        "train_y_2 = [y.sentiment for y in training_2]\n",
        "\n",
        "test_x_2 = [x.text for x in test_2]\n",
        "test_y_2 = [y.sentiment for y in test_2]\n",
        "\n",
        "a = 50\n",
        "print(f'O comentário \"{train_x_2[a]}\" é {train_y_2[a]}')\n",
        "print()\n",
        "print(f'Tamanho de x treino 2: {len(train_x_2)}')\n",
        "print()\n",
        "print(f'Tamanho de x teste 2: {len(test_x_2)}')"
      ]
    },
    {
      "cell_type": "markdown",
      "id": "60276e6b",
      "metadata": {
        "id": "60276e6b"
      },
      "source": [
        "## 3.8 - Vetorização dos dados 2"
      ]
    },
    {
      "cell_type": "code",
      "execution_count": null,
      "id": "93c25e26",
      "metadata": {
        "id": "93c25e26"
      },
      "outputs": [],
      "source": [
        "vectorizer = tfid()\n",
        "train_x_2_vector = vectorizer.fit_transform(train_x_2)\n",
        "test_x_2_vector = vectorizer.transform(test_x_2)\n"
      ]
    },
    {
      "cell_type": "markdown",
      "id": "5e870c08",
      "metadata": {
        "id": "5e870c08"
      },
      "source": [
        "## 3.9 -  2º Classificação "
      ]
    },
    {
      "cell_type": "markdown",
      "id": "489944f3",
      "metadata": {
        "id": "489944f3"
      },
      "source": [
        "### 3.9.1 - Linear Regression"
      ]
    },
    {
      "cell_type": "code",
      "execution_count": null,
      "id": "7e7959fa",
      "metadata": {
        "id": "7e7959fa",
        "outputId": "1e7799bc-b5af-480f-d7f7-04c0da2e2279"
      },
      "outputs": [
        {
          "data": {
            "text/plain": [
              "SVC(kernel='linear')"
            ]
          },
          "execution_count": 170,
          "metadata": {},
          "output_type": "execute_result"
        }
      ],
      "source": [
        "classif_svm = svm.SVC(kernel = \"linear\")\n",
        "\n",
        "classif_svm.fit(train_x_2_vector,train_y_2)"
      ]
    },
    {
      "cell_type": "markdown",
      "id": "db7e6d1b",
      "metadata": {
        "id": "db7e6d1b"
      },
      "source": [
        "### 3.9.2 - Decision Tree"
      ]
    },
    {
      "cell_type": "code",
      "execution_count": null,
      "id": "270417f5",
      "metadata": {
        "id": "270417f5",
        "outputId": "2c5865c1-c3a4-4cd2-9186-cd2589c10ba6"
      },
      "outputs": [
        {
          "data": {
            "text/plain": [
              "DecisionTreeClassifier()"
            ]
          },
          "execution_count": 171,
          "metadata": {},
          "output_type": "execute_result"
        }
      ],
      "source": [
        "classif_dect.fit(train_x_2_vector, train_y_2)"
      ]
    },
    {
      "cell_type": "markdown",
      "id": "a4ddb176",
      "metadata": {
        "id": "a4ddb176"
      },
      "source": [
        "### 3.9.3 - Linear Regression"
      ]
    },
    {
      "cell_type": "code",
      "execution_count": null,
      "id": "ba9dba9e",
      "metadata": {
        "id": "ba9dba9e",
        "outputId": "7d9d74d7-3133-4d58-f521-8ece10c94700"
      },
      "outputs": [
        {
          "data": {
            "text/plain": [
              "LogisticRegression()"
            ]
          },
          "execution_count": 172,
          "metadata": {},
          "output_type": "execute_result"
        }
      ],
      "source": [
        "classif_lr.fit(train_x_2_vector, train_y_2)"
      ]
    },
    {
      "cell_type": "markdown",
      "id": "93d51f35",
      "metadata": {
        "id": "93d51f35"
      },
      "source": [
        "## 3.10 - 2º Validação"
      ]
    },
    {
      "cell_type": "markdown",
      "id": "6ebda232",
      "metadata": {
        "id": "6ebda232"
      },
      "source": [
        "### 3.10.1 - Linear SVM"
      ]
    },
    {
      "cell_type": "code",
      "execution_count": null,
      "id": "be6fc41e",
      "metadata": {
        "id": "be6fc41e",
        "outputId": "13de27be-bb1e-4d93-ae42-b4011e8c4799"
      },
      "outputs": [
        {
          "data": {
            "text/plain": [
              "0.8790233074361821"
            ]
          },
          "execution_count": 173,
          "metadata": {},
          "output_type": "execute_result"
        }
      ],
      "source": [
        "#Score (Mean Accuracy)\n",
        "classif_svm.score(test_x_2_vector, test_y_2)"
      ]
    },
    {
      "cell_type": "code",
      "execution_count": null,
      "id": "c0f4eebf",
      "metadata": {
        "id": "c0f4eebf",
        "outputId": "59744460-0671-45f5-f57b-bc9e3ebdbc6c"
      },
      "outputs": [
        {
          "data": {
            "text/plain": [
              "array([0.88061336, 0.87739033])"
            ]
          },
          "execution_count": 175,
          "metadata": {},
          "output_type": "execute_result"
        }
      ],
      "source": [
        "#F1 Score\n",
        "f1_score(test_y_2, classif_svm.predict(test_x_2_vector), average = None, labels = [Sentiment.POSITIVO,Sentiment.NEGATIVO])"
      ]
    },
    {
      "cell_type": "markdown",
      "id": "2f692cbc",
      "metadata": {
        "id": "2f692cbc"
      },
      "source": [
        "### 3.10.2 - Decision Tree"
      ]
    },
    {
      "cell_type": "code",
      "execution_count": null,
      "id": "4a5d9946",
      "metadata": {
        "id": "4a5d9946",
        "outputId": "bd2168de-6d25-49c1-b792-0f35a1b2f8c6"
      },
      "outputs": [
        {
          "data": {
            "text/plain": [
              "0.7658157602663707"
            ]
          },
          "execution_count": 176,
          "metadata": {},
          "output_type": "execute_result"
        }
      ],
      "source": [
        "#Score (Mean Accuracy)\n",
        "classif_dect.score(test_x_2_vector, test_y_2)"
      ]
    },
    {
      "cell_type": "code",
      "execution_count": null,
      "id": "80697899",
      "metadata": {
        "id": "80697899",
        "outputId": "d0e1355c-ddad-4b48-dac4-c5e562158bba"
      },
      "outputs": [
        {
          "data": {
            "text/plain": [
              "array([0.77090119, 0.76049943])"
            ]
          },
          "execution_count": 177,
          "metadata": {},
          "output_type": "execute_result"
        }
      ],
      "source": [
        "#F1 Score\n",
        "f1_score(test_y_2, classif_dect.predict(test_x_2_vector), average = None, labels = [Sentiment.POSITIVO,Sentiment.NEGATIVO])"
      ]
    },
    {
      "cell_type": "markdown",
      "id": "013f4f06",
      "metadata": {
        "id": "013f4f06"
      },
      "source": [
        "### 3.10.3 - Linear Regression"
      ]
    },
    {
      "cell_type": "code",
      "execution_count": null,
      "id": "e2dc6d3c",
      "metadata": {
        "id": "e2dc6d3c",
        "outputId": "baf344b2-34dc-4108-c333-4e3d5dab4217"
      },
      "outputs": [
        {
          "data": {
            "text/plain": [
              "0.8690344062153164"
            ]
          },
          "execution_count": 178,
          "metadata": {},
          "output_type": "execute_result"
        }
      ],
      "source": [
        "#Score (Mean Accuracy)\n",
        "classif_lr.score(test_x_2_vector, test_y_2)"
      ]
    },
    {
      "cell_type": "code",
      "execution_count": null,
      "id": "5ae662a3",
      "metadata": {
        "id": "5ae662a3",
        "outputId": "46b07cb0-5080-41d0-80d4-38f30ac248de"
      },
      "outputs": [
        {
          "data": {
            "text/plain": [
              "array([0.87145969, 0.86651584])"
            ]
          },
          "execution_count": 179,
          "metadata": {},
          "output_type": "execute_result"
        }
      ],
      "source": [
        "#F1 Score\n",
        "f1_score(test_y_2, classif_lr.predict(test_x_2_vector), average = None, labels = [Sentiment.POSITIVO,Sentiment.NEGATIVO])"
      ]
    },
    {
      "cell_type": "code",
      "execution_count": null,
      "id": "9c031461",
      "metadata": {
        "id": "9c031461",
        "outputId": "71a5a176-434f-414b-da23-844e12b070c9"
      },
      "outputs": [
        {
          "name": "stdout",
          "output_type": "stream",
          "text": [
            "['NEGATIVO' 'NEGATIVO' 'NEGATIVO' 'POSITIVO' 'POSITIVO' 'NEGATIVO'\n",
            " 'NEGATIVO' 'POSITIVO' 'NEGATIVO' 'NEGATIVO' 'POSITIVO' 'NEGATIVO'\n",
            " 'NEGATIVO' 'NEGATIVO' 'POSITIVO' 'POSITIVO' 'POSITIVO' 'POSITIVO'\n",
            " 'POSITIVO' 'POSITIVO']\n"
          ]
        }
      ],
      "source": [
        "test_set = [\"que coisa horrivel\", #negativo\n",
        "            \"péssimo,odiei\", #negativo\n",
        "            \"é bom mas nao vale o preço\", #negativo\n",
        "            \"um dos melhores que ja li\", #positivo\n",
        "            \"qualidade define\",#positivo\n",
        "            \"muito caro pelo que é\",#negativo\n",
        "            \"poderia ser melhor pelo preço\",#negativo\n",
        "            \"nunca tive a oportunidade de ler alguma coisa assim. Simplesmente incrìvel. Mais um trabalho primoroso do pipoca e nanquim\",#positivo,\n",
        "            \"ótima história mas péssimo acabamento\",#negativo\n",
        "            \"dinheiro jogado no lixo\",#negativo\n",
        "            \"horrivel\",#negativo\n",
        "            \"não gostei nem um pouco\",#negativo\n",
        "            \"é bom mas pode melhorar\",#negativo\n",
        "            \"péssimo, extremo mau gosto\",#negativo\n",
        "            \"extremamente superestimado\",#negativo\n",
        "            \"muito bom adorei cada segundo\",#positivo\n",
        "            \"extretamente bom, um grande acerto\",#positivo\n",
        "            \"uma verdadeira obra de arte\",#positivo\n",
        "            \"precisa melhorar muito ainda\",#\"negativo\"\n",
        "            \"amei, lindo, maravilhoso. Valeu cada centavo\"#positivo\n",
        "           \n",
        "           \n",
        "           \n",
        "           \n",
        "           \n",
        "           \n",
        "           \n",
        "           \n",
        "           ]\n",
        "test_set_vec = vectorizer.transform(test_set)\n",
        "\n",
        "print(classif_svm.predict(test_set_vec))"
      ]
    },
    {
      "cell_type": "code",
      "execution_count": null,
      "id": "435ca9cc",
      "metadata": {
        "id": "435ca9cc",
        "outputId": "85c720ab-234c-4179-d3b5-37d230e4cba5"
      },
      "outputs": [
        {
          "name": "stdout",
          "output_type": "stream",
          "text": [
            "total: 20\n",
            "acertos: 17\n",
            "85.0%\n"
          ]
        }
      ],
      "source": [
        "print(f'total: {len(test_set)}')\n",
        "print(\"acertos: 17\")\n",
        "print(f'{(17/20)*100}%')"
      ]
    },
    {
      "cell_type": "markdown",
      "id": "d6a0be01",
      "metadata": {
        "id": "d6a0be01"
      },
      "source": [
        "## 4 - Salvando o modelo"
      ]
    },
    {
      "cell_type": "markdown",
      "id": "b809b1a9",
      "metadata": {
        "id": "b809b1a9"
      },
      "source": [
        "### 4.1 - salvando o modelo"
      ]
    },
    {
      "cell_type": "code",
      "execution_count": null,
      "id": "e2b45556",
      "metadata": {
        "id": "e2b45556"
      },
      "outputs": [],
      "source": [
        "import pickle\n",
        "\n",
        "with open('F:\\ESTUDOS\\DATA_SCIENCE\\ML - SENTIMENTAL ANALYSIS - 02\\sentiment_classifier.pkl', \"wb\") as f:\n",
        "    pickle.dump(classif_lr, f)"
      ]
    },
    {
      "cell_type": "markdown",
      "id": "bc263ecc",
      "metadata": {
        "id": "bc263ecc"
      },
      "source": [
        "### 4.2 carregando o modelo"
      ]
    },
    {
      "cell_type": "code",
      "execution_count": null,
      "id": "584c5f76",
      "metadata": {
        "id": "584c5f76"
      },
      "outputs": [],
      "source": [
        "with open('F:\\ESTUDOS\\DATA_SCIENCE\\ML - SENTIMENTAL ANALYSIS - 02\\sentiment_classifier.pkl', \"rb\") as f:\n",
        "    classif_carregado = pickle.load(f)"
      ]
    },
    {
      "cell_type": "code",
      "execution_count": null,
      "id": "ea8cd565",
      "metadata": {
        "id": "ea8cd565",
        "outputId": "c184c95b-6d6a-4082-d476-260787900dd2"
      },
      "outputs": [
        {
          "data": {
            "text/plain": [
              "array(['NEGATIVO', 'POSITIVO', 'NEGATIVO', 'POSITIVO', 'POSITIVO',\n",
              "       'NEGATIVO', 'NEGATIVO', 'POSITIVO', 'NEGATIVO', 'NEGATIVO',\n",
              "       'POSITIVO', 'NEGATIVO', 'NEGATIVO', 'NEGATIVO', 'POSITIVO',\n",
              "       'POSITIVO', 'POSITIVO', 'POSITIVO', 'POSITIVO', 'POSITIVO'],\n",
              "      dtype='<U8')"
            ]
          },
          "execution_count": 208,
          "metadata": {},
          "output_type": "execute_result"
        }
      ],
      "source": [
        "classif_carregado.predict(test_set_vec)"
      ]
    },
    {
      "cell_type": "markdown",
      "id": "b17e11f7",
      "metadata": {
        "id": "b17e11f7"
      },
      "source": [
        "## 5 - Matriz de Confusão"
      ]
    },
    {
      "cell_type": "code",
      "execution_count": null,
      "id": "06896595",
      "metadata": {
        "id": "06896595"
      },
      "outputs": [],
      "source": [
        "import seaborn as sn\n",
        "import matplotlib.pyplot as mt\n",
        "from sklearn.metrics import confusion_matrix"
      ]
    },
    {
      "cell_type": "code",
      "execution_count": null,
      "id": "af5a5bbf",
      "metadata": {
        "id": "af5a5bbf"
      },
      "outputs": [],
      "source": [
        "y_pred = classif_carregado.predict(test_x_2_vector)"
      ]
    },
    {
      "cell_type": "code",
      "execution_count": null,
      "id": "3c71cd40",
      "metadata": {
        "id": "3c71cd40"
      },
      "outputs": [],
      "source": [
        "labels = [Sentiment.POSITIVO, Sentiment.NEGATIVO]"
      ]
    },
    {
      "cell_type": "code",
      "execution_count": null,
      "id": "464bd4b6",
      "metadata": {
        "id": "464bd4b6",
        "outputId": "bec43034-fc7f-4426-9580-7c18191f79be"
      },
      "outputs": [
        {
          "data": {
            "text/plain": [
              "<AxesSubplot:>"
            ]
          },
          "execution_count": 213,
          "metadata": {},
          "output_type": "execute_result"
        },
        {
          "data": {
            "image/png": "[encoded data removed]",
            "text/plain": [
              "<Figure size 432x288 with 2 Axes>"
            ]
          },
          "metadata": {
            "needs_background": "light"
          },
          "output_type": "display_data"
        }
      ],
      "source": [
        "cm = confusion_matrix(test_y_2, y_pred, labels = labels)\n",
        "df_cm = pd.DataFrame(cm, index=labels, columns = labels)\n",
        "sn.heatmap(df_cm, annot=True, fmt = \"\")"
      ]
    }
  ],
  "metadata": {
    "kernelspec": {
      "display_name": "Python 3",
      "language": "python",
      "name": "python3"
    },
    "language_info": {
      "codemirror_mode": {
        "name": "ipython",
        "version": 3
      },
      "file_extension": ".py",
      "mimetype": "text/x-python",
      "name": "python",
      "nbconvert_exporter": "python",
      "pygments_lexer": "ipython3",
      "version": "3.8.8"
    },
    "colab": {
      "name": "Amazon_ml_sentiment.ipynb",
      "provenance": [],
      "collapsed_sections": [
        "82e8793b",
        "000300e5",
        "745ce51d",
        "867009f1",
        "ebbe04fc",
        "c4930cef",
        "c131d2ea",
        "d9cacd51",
        "66ef6b48",
        "d2b16d38",
        "2455058c",
        "c695a0d3",
        "1451937f",
        "60276e6b",
        "5e870c08",
        "489944f3",
        "db7e6d1b",
        "a4ddb176",
        "93d51f35",
        "6ebda232",
        "2f692cbc",
        "013f4f06",
        "d6a0be01",
        "b809b1a9",
        "bc263ecc",
        "b17e11f7"
      ]
    }
  },
  "nbformat": 4,
  "nbformat_minor": 5
}